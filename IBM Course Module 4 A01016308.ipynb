{
 "cells": [
  {
   "cell_type": "code",
   "execution_count": 14,
   "id": "6147ae45",
   "metadata": {},
   "outputs": [
    {
     "name": "stdout",
     "output_type": "stream",
     "text": [
      "/Users/alexishema/Downloads/module4.txt\n",
      "r\n",
      "Este es el contenido del archivo .txt\n"
     ]
    }
   ],
   "source": [
    "#FILES ## AQUÍ INICIA EL MÓDULO 4 DE IBM\n",
    "\n",
    "File1=open(\"/Users/alexishema/Downloads/module4.txt\",\"r\")\n",
    "print(File1.name)\n",
    "print(File1.mode)\n",
    "print(File1.read())\n",
    "#File1.close para cerrar el archivo\n",
    "\n"
   ]
  },
  {
   "cell_type": "code",
   "execution_count": 19,
   "id": "1cf632a4",
   "metadata": {},
   "outputs": [
    {
     "name": "stdout",
     "output_type": "stream",
     "text": [
      "Manzana\n",
      "Pera\n",
      "Papaya\n",
      "Mango\n",
      "None\n",
      "Manzana\n",
      "Pera\n",
      "Papaya\n",
      "Mango\n"
     ]
    }
   ],
   "source": [
    "#Lo mejor es maniobrar el archivo con el comando WITH y ya después cerrar el archivo\n",
    "\n",
    "with open(\"/Users/alexishema/Downloads/module4.txt\",\"r\") as Archivo1:\n",
    "    contenido=Archivo1.read()\n",
    "    print(contenido)\n",
    "print(Archivo1.close())\n",
    "print(contenido)"
   ]
  },
  {
   "cell_type": "code",
   "execution_count": 22,
   "id": "ef5b48ef",
   "metadata": {},
   "outputs": [
    {
     "name": "stdout",
     "output_type": "stream",
     "text": [
      "['Manzana\\n', 'Pera\\n', 'Papaya\\n', 'Mango']\n",
      "Manzana\n",
      "\n"
     ]
    }
   ],
   "source": [
    "with open(\"/Users/alexishema/Downloads/module4.txt\",\"r\") as Archivo1:\n",
    "    contenido=Archivo1.readlines()\n",
    "    print(contenido)\n",
    "    \n",
    "print(contenido[0])\n"
   ]
  },
  {
   "cell_type": "code",
   "execution_count": 35,
   "id": "66df6186",
   "metadata": {},
   "outputs": [
    {
     "name": "stdout",
     "output_type": "stream",
     "text": [
      "Manzana\n",
      "\n",
      "Pera\n",
      "\n",
      "None\n"
     ]
    }
   ],
   "source": [
    "with open(\"/Users/alexishema/Downloads/module4.txt\",\"r\") as Archivo1:\n",
    "    contenido=Archivo1.readline()\n",
    "    print(contenido)\n",
    "    contenido=Archivo1.readline()\n",
    "    print(contenido)\n",
    "print(Archivo1.close())\n",
    "    "
   ]
  },
  {
   "cell_type": "code",
   "execution_count": 42,
   "id": "6d48e233",
   "metadata": {},
   "outputs": [
    {
     "name": "stdout",
     "output_type": "stream",
     "text": [
      "Manza\n",
      "Per\n"
     ]
    }
   ],
   "source": [
    "with open(\"/Users/alexishema/Downloads/module4.txt\",\"r\") as Archivo2:\n",
    "    contenidos1=Archivo2.read(5)\n",
    "    Archivo2.readline() # Para hacer el salto a la siguiente línea\n",
    "    print(contenidos1)\n",
    "    contenidos=Archivo2.read(3)\n",
    "    print(contenidos)\n"
   ]
  },
  {
   "cell_type": "code",
   "execution_count": 62,
   "id": "de066276",
   "metadata": {},
   "outputs": [],
   "source": [
    "#WRITING FILES ## \n",
    "frutas=['Platano\\n','Manzana\\n','Jengibre\\n']\n",
    "\n",
    "with open(\"/Users/alexishema/Downloads/module4creacion.txt\",\"w\") as File13:\n",
    "    File13.write(\"Escrito desde Jupyter Notebook\\n\")\n",
    "    File13.write(\"Escrito nuevamente desde Jupyter Notebook\\n\")\n",
    "    \n",
    "\n",
    "\n",
    "with open(\"/Users/alexishema/Downloads/module4creacion.txt\",\"a\") as File13: #\"a\" para ya no sobreescribir el file\n",
    "    for line in frutas:\n",
    "        File13.write(line)\n",
    "\n"
   ]
  },
  {
   "cell_type": "code",
   "execution_count": 65,
   "id": "f9ed5092",
   "metadata": {},
   "outputs": [],
   "source": [
    "#aquí copiamos el archivo module4creacion a module4creacionCOPIA\n",
    "with open(\"/Users/alexishema/Downloads/module4creacion.txt\",\"r\") as File13:\n",
    "    with open(\"/Users/alexishema/Downloads/module4creacionCOPIA.txt\",\"w\") as File14:\n",
    "        for line in File13:\n",
    "            File14.write(line)"
   ]
  },
  {
   "cell_type": "code",
   "execution_count": 68,
   "id": "5a3c6f97",
   "metadata": {},
   "outputs": [
    {
     "data": {
      "text/html": [
       "<div>\n",
       "<style scoped>\n",
       "    .dataframe tbody tr th:only-of-type {\n",
       "        vertical-align: middle;\n",
       "    }\n",
       "\n",
       "    .dataframe tbody tr th {\n",
       "        vertical-align: top;\n",
       "    }\n",
       "\n",
       "    .dataframe thead th {\n",
       "        text-align: right;\n",
       "    }\n",
       "</style>\n",
       "<table border=\"1\" class=\"dataframe\">\n",
       "  <thead>\n",
       "    <tr style=\"text-align: right;\">\n",
       "      <th></th>\n",
       "      <th>longitude</th>\n",
       "      <th>latitude</th>\n",
       "      <th>housing_median_age</th>\n",
       "      <th>total_rooms</th>\n",
       "      <th>total_bedrooms</th>\n",
       "      <th>population</th>\n",
       "      <th>households</th>\n",
       "      <th>median_income</th>\n",
       "      <th>median_house_value</th>\n",
       "    </tr>\n",
       "  </thead>\n",
       "  <tbody>\n",
       "    <tr>\n",
       "      <th>0</th>\n",
       "      <td>-114.31</td>\n",
       "      <td>34.19</td>\n",
       "      <td>15.0</td>\n",
       "      <td>5612.0</td>\n",
       "      <td>1283.0</td>\n",
       "      <td>1015.0</td>\n",
       "      <td>472.0</td>\n",
       "      <td>1.4936</td>\n",
       "      <td>66900.0</td>\n",
       "    </tr>\n",
       "    <tr>\n",
       "      <th>1</th>\n",
       "      <td>-114.47</td>\n",
       "      <td>34.40</td>\n",
       "      <td>19.0</td>\n",
       "      <td>7650.0</td>\n",
       "      <td>1901.0</td>\n",
       "      <td>1129.0</td>\n",
       "      <td>463.0</td>\n",
       "      <td>1.8200</td>\n",
       "      <td>80100.0</td>\n",
       "    </tr>\n",
       "    <tr>\n",
       "      <th>2</th>\n",
       "      <td>-114.56</td>\n",
       "      <td>33.69</td>\n",
       "      <td>17.0</td>\n",
       "      <td>720.0</td>\n",
       "      <td>174.0</td>\n",
       "      <td>333.0</td>\n",
       "      <td>117.0</td>\n",
       "      <td>1.6509</td>\n",
       "      <td>85700.0</td>\n",
       "    </tr>\n",
       "    <tr>\n",
       "      <th>3</th>\n",
       "      <td>-114.57</td>\n",
       "      <td>33.64</td>\n",
       "      <td>14.0</td>\n",
       "      <td>1501.0</td>\n",
       "      <td>337.0</td>\n",
       "      <td>515.0</td>\n",
       "      <td>226.0</td>\n",
       "      <td>3.1917</td>\n",
       "      <td>73400.0</td>\n",
       "    </tr>\n",
       "    <tr>\n",
       "      <th>4</th>\n",
       "      <td>-114.57</td>\n",
       "      <td>33.57</td>\n",
       "      <td>20.0</td>\n",
       "      <td>1454.0</td>\n",
       "      <td>326.0</td>\n",
       "      <td>624.0</td>\n",
       "      <td>262.0</td>\n",
       "      <td>1.9250</td>\n",
       "      <td>65500.0</td>\n",
       "    </tr>\n",
       "  </tbody>\n",
       "</table>\n",
       "</div>"
      ],
      "text/plain": [
       "   longitude  latitude  housing_median_age  total_rooms  total_bedrooms  \\\n",
       "0    -114.31     34.19                15.0       5612.0          1283.0   \n",
       "1    -114.47     34.40                19.0       7650.0          1901.0   \n",
       "2    -114.56     33.69                17.0        720.0           174.0   \n",
       "3    -114.57     33.64                14.0       1501.0           337.0   \n",
       "4    -114.57     33.57                20.0       1454.0           326.0   \n",
       "\n",
       "   population  households  median_income  median_house_value  \n",
       "0      1015.0       472.0         1.4936             66900.0  \n",
       "1      1129.0       463.0         1.8200             80100.0  \n",
       "2       333.0       117.0         1.6509             85700.0  \n",
       "3       515.0       226.0         3.1917             73400.0  \n",
       "4       624.0       262.0         1.9250             65500.0  "
      ]
     },
     "execution_count": 68,
     "metadata": {},
     "output_type": "execute_result"
    }
   ],
   "source": [
    "#PANDAS LOADING DATA\n",
    "import pandas as pd\n",
    "csv_archivo=\"/Users/alexishema/Downloads/california_housing_train.csv\"\n",
    "df=pd.read_csv(csv_archivo)\n",
    "df.head()"
   ]
  },
  {
   "cell_type": "code",
   "execution_count": 70,
   "id": "d060ee59",
   "metadata": {},
   "outputs": [
    {
     "data": {
      "text/html": [
       "<div>\n",
       "<style scoped>\n",
       "    .dataframe tbody tr th:only-of-type {\n",
       "        vertical-align: middle;\n",
       "    }\n",
       "\n",
       "    .dataframe tbody tr th {\n",
       "        vertical-align: top;\n",
       "    }\n",
       "\n",
       "    .dataframe thead th {\n",
       "        text-align: right;\n",
       "    }\n",
       "</style>\n",
       "<table border=\"1\" class=\"dataframe\">\n",
       "  <thead>\n",
       "    <tr style=\"text-align: right;\">\n",
       "      <th></th>\n",
       "      <th>Cuenta</th>\n",
       "      <th>Área</th>\n",
       "      <th>Posición</th>\n",
       "      <th>Nombre</th>\n",
       "    </tr>\n",
       "  </thead>\n",
       "  <tbody>\n",
       "    <tr>\n",
       "      <th>0</th>\n",
       "      <td>Diageo</td>\n",
       "      <td>Trade</td>\n",
       "      <td>Gerente Autoservicios (Todos Menos Walmart)</td>\n",
       "      <td>Diana Limon</td>\n",
       "    </tr>\n",
       "    <tr>\n",
       "      <th>1</th>\n",
       "      <td>Kellogg</td>\n",
       "      <td>Compras</td>\n",
       "      <td>LA Marketing TSM</td>\n",
       "      <td>Betzabé gabriela Badillo</td>\n",
       "    </tr>\n",
       "    <tr>\n",
       "      <th>2</th>\n",
       "      <td>NaN</td>\n",
       "      <td>NaN</td>\n",
       "      <td>LA Marketing Procurement Category Manager</td>\n",
       "      <td>Luis Miguel Milan</td>\n",
       "    </tr>\n",
       "    <tr>\n",
       "      <th>3</th>\n",
       "      <td>Herdez</td>\n",
       "      <td>Marketing</td>\n",
       "      <td>Sr. Brand Manager</td>\n",
       "      <td>Gabriela Morales Miranda</td>\n",
       "    </tr>\n",
       "    <tr>\n",
       "      <th>4</th>\n",
       "      <td>Jumex</td>\n",
       "      <td>NaN</td>\n",
       "      <td>Gerente Marketing</td>\n",
       "      <td>Veronica Maldonado</td>\n",
       "    </tr>\n",
       "  </tbody>\n",
       "</table>\n",
       "</div>"
      ],
      "text/plain": [
       "    Cuenta       Área                                     Posición  \\\n",
       "0   Diageo      Trade  Gerente Autoservicios (Todos Menos Walmart)   \n",
       "1  Kellogg    Compras                            LA Marketing TSM    \n",
       "2      NaN        NaN    LA Marketing Procurement Category Manager   \n",
       "3   Herdez  Marketing                            Sr. Brand Manager   \n",
       "4    Jumex        NaN                            Gerente Marketing   \n",
       "\n",
       "                     Nombre  \n",
       "0               Diana Limon  \n",
       "1  Betzabé gabriela Badillo  \n",
       "2         Luis Miguel Milan  \n",
       "3  Gabriela Morales Miranda  \n",
       "4        Veronica Maldonado  "
      ]
     },
     "execution_count": 70,
     "metadata": {},
     "output_type": "execute_result"
    }
   ],
   "source": [
    "csv_archivo=\"/Users/alexishema/Downloads/BASEINSTALADA_ALEXISDRIM.xlsx\"\n",
    "df=pd.read_excel(csv_archivo)\n",
    "df.head()\n",
    "#descargar openpyxl en pip para que funcione"
   ]
  },
  {
   "cell_type": "code",
   "execution_count": 78,
   "id": "30bb856f",
   "metadata": {},
   "outputs": [
    {
     "data": {
      "text/html": [
       "<div>\n",
       "<style scoped>\n",
       "    .dataframe tbody tr th:only-of-type {\n",
       "        vertical-align: middle;\n",
       "    }\n",
       "\n",
       "    .dataframe tbody tr th {\n",
       "        vertical-align: top;\n",
       "    }\n",
       "\n",
       "    .dataframe thead th {\n",
       "        text-align: right;\n",
       "    }\n",
       "</style>\n",
       "<table border=\"1\" class=\"dataframe\">\n",
       "  <thead>\n",
       "    <tr style=\"text-align: right;\">\n",
       "      <th></th>\n",
       "      <th>Clubes</th>\n",
       "      <th>Titulos</th>\n",
       "      <th>Popularidad</th>\n",
       "    </tr>\n",
       "  </thead>\n",
       "  <tbody>\n",
       "    <tr>\n",
       "      <th>0</th>\n",
       "      <td>Club America</td>\n",
       "      <td>13</td>\n",
       "      <td>Mucha</td>\n",
       "    </tr>\n",
       "    <tr>\n",
       "      <th>1</th>\n",
       "      <td>Toluca</td>\n",
       "      <td>11</td>\n",
       "      <td>Poca</td>\n",
       "    </tr>\n",
       "    <tr>\n",
       "      <th>2</th>\n",
       "      <td>Cruz Azul</td>\n",
       "      <td>10</td>\n",
       "      <td>Media</td>\n",
       "    </tr>\n",
       "  </tbody>\n",
       "</table>\n",
       "</div>"
      ],
      "text/plain": [
       "         Clubes  Titulos Popularidad\n",
       "0  Club America       13       Mucha\n",
       "1        Toluca       11        Poca\n",
       "2     Cruz Azul       10       Media"
      ]
     },
     "execution_count": 78,
     "metadata": {},
     "output_type": "execute_result"
    }
   ],
   "source": [
    "#crear un dataframe a partie de un diccionario\n",
    "\n",
    "diccionario={\"Clubes\":[\"Club America\",\"Toluca\",\"Cruz Azul\"],\"Titulos\":[13,11,10],\"Popularidad\":[\"Mucha\",\"Poca\",\"Media\"]}\n",
    "diccionario_frame=pd.DataFrame(diccionario)\n",
    "diccionario_frame.head()\n"
   ]
  },
  {
   "cell_type": "code",
   "execution_count": 79,
   "id": "058ca5cd",
   "metadata": {},
   "outputs": [
    {
     "data": {
      "text/html": [
       "<div>\n",
       "<style scoped>\n",
       "    .dataframe tbody tr th:only-of-type {\n",
       "        vertical-align: middle;\n",
       "    }\n",
       "\n",
       "    .dataframe tbody tr th {\n",
       "        vertical-align: top;\n",
       "    }\n",
       "\n",
       "    .dataframe thead th {\n",
       "        text-align: right;\n",
       "    }\n",
       "</style>\n",
       "<table border=\"1\" class=\"dataframe\">\n",
       "  <thead>\n",
       "    <tr style=\"text-align: right;\">\n",
       "      <th></th>\n",
       "      <th>Clubes</th>\n",
       "    </tr>\n",
       "  </thead>\n",
       "  <tbody>\n",
       "    <tr>\n",
       "      <th>0</th>\n",
       "      <td>Club America</td>\n",
       "    </tr>\n",
       "    <tr>\n",
       "      <th>1</th>\n",
       "      <td>Toluca</td>\n",
       "    </tr>\n",
       "    <tr>\n",
       "      <th>2</th>\n",
       "      <td>Cruz Azul</td>\n",
       "    </tr>\n",
       "  </tbody>\n",
       "</table>\n",
       "</div>"
      ],
      "text/plain": [
       "         Clubes\n",
       "0  Club America\n",
       "1        Toluca\n",
       "2     Cruz Azul"
      ]
     },
     "execution_count": 79,
     "metadata": {},
     "output_type": "execute_result"
    }
   ],
   "source": [
    "x=pd.DataFrame(diccionario_frame[[\"Clubes\"]])\n",
    "x.head()"
   ]
  },
  {
   "cell_type": "code",
   "execution_count": 87,
   "id": "4f2c447d",
   "metadata": {},
   "outputs": [
    {
     "data": {
      "text/plain": [
       "'Club America'"
      ]
     },
     "execution_count": 87,
     "metadata": {},
     "output_type": "execute_result"
    }
   ],
   "source": [
    "diccionario_frame.iloc[0,0] #localizar registros en el DataFrame"
   ]
  },
  {
   "cell_type": "code",
   "execution_count": 98,
   "id": "6ce35ba2",
   "metadata": {},
   "outputs": [
    {
     "data": {
      "text/plain": [
       "array([13, 12, 11])"
      ]
     },
     "execution_count": 98,
     "metadata": {},
     "output_type": "execute_result"
    }
   ],
   "source": [
    "#valores únicos\n",
    "diccionario={\"Clubes\":[\"Club America\",\"Toluca\",\"Cruz Azul\"],\"Titulos\":[13,12,11],\"Popularidad\":[\"Mucha\",\"Poca\",\"Media\"]}\n",
    "diccionario_frame=pd.DataFrame(diccionario)\n",
    "diccionario_frame[\"Titulos\"].unique()\n"
   ]
  },
  {
   "cell_type": "code",
   "execution_count": 99,
   "id": "843362d3",
   "metadata": {},
   "outputs": [
    {
     "data": {
      "text/plain": [
       "0    True\n",
       "1    True\n",
       "2    True\n",
       "Name: Titulos, dtype: bool"
      ]
     },
     "execution_count": 99,
     "metadata": {},
     "output_type": "execute_result"
    }
   ],
   "source": [
    "diccionario_frame[\"Titulos\"]>10"
   ]
  },
  {
   "cell_type": "code",
   "execution_count": 103,
   "id": "c1a7d0dc",
   "metadata": {},
   "outputs": [
    {
     "data": {
      "text/html": [
       "<div>\n",
       "<style scoped>\n",
       "    .dataframe tbody tr th:only-of-type {\n",
       "        vertical-align: middle;\n",
       "    }\n",
       "\n",
       "    .dataframe tbody tr th {\n",
       "        vertical-align: top;\n",
       "    }\n",
       "\n",
       "    .dataframe thead th {\n",
       "        text-align: right;\n",
       "    }\n",
       "</style>\n",
       "<table border=\"1\" class=\"dataframe\">\n",
       "  <thead>\n",
       "    <tr style=\"text-align: right;\">\n",
       "      <th></th>\n",
       "      <th>Clubes</th>\n",
       "      <th>Titulos</th>\n",
       "      <th>Popularidad</th>\n",
       "    </tr>\n",
       "  </thead>\n",
       "  <tbody>\n",
       "    <tr>\n",
       "      <th>0</th>\n",
       "      <td>Club America</td>\n",
       "      <td>13</td>\n",
       "      <td>Mucha</td>\n",
       "    </tr>\n",
       "    <tr>\n",
       "      <th>1</th>\n",
       "      <td>Toluca</td>\n",
       "      <td>12</td>\n",
       "      <td>Poca</td>\n",
       "    </tr>\n",
       "  </tbody>\n",
       "</table>\n",
       "</div>"
      ],
      "text/plain": [
       "         Clubes  Titulos Popularidad\n",
       "0  Club America       13       Mucha\n",
       "1        Toluca       12        Poca"
      ]
     },
     "execution_count": 103,
     "metadata": {},
     "output_type": "execute_result"
    }
   ],
   "source": [
    "nuevodiccionario=diccionario_frame[diccionario_frame[\"Titulos\"]>11]\n",
    "nuevodiccionario.head()\n",
    "nuevodiccionario.to_csv(\"/Users/alexishema/Downloads/equipospopulares.csv\")\n",
    "nuevodiccionario.head()"
   ]
  },
  {
   "cell_type": "code",
   "execution_count": null,
   "id": "0f59adb2",
   "metadata": {},
   "outputs": [],
   "source": []
  }
 ],
 "metadata": {
  "kernelspec": {
   "display_name": "Python 3 (ipykernel)",
   "language": "python",
   "name": "python3"
  },
  "language_info": {
   "codemirror_mode": {
    "name": "ipython",
    "version": 3
   },
   "file_extension": ".py",
   "mimetype": "text/x-python",
   "name": "python",
   "nbconvert_exporter": "python",
   "pygments_lexer": "ipython3",
   "version": "3.10.5"
  }
 },
 "nbformat": 4,
 "nbformat_minor": 5
}
