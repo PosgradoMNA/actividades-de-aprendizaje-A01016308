{
 "cells": [
  {
   "cell_type": "markdown",
   "metadata": {},
   "source": [
    "**Semana 8: Actividad Semanal -- 7 Regresiones y K means**\n",
    "\n",
    "**Nombre: Alexis Hernández Martínez**\n",
    "\n",
    "**Matrícula: A01016308**\n",
    "\n",
    "**Materia: Ciencia y Analítica de Datos**\n",
    "\n",
    "**Profesor: Dra. María de la Paz Rico**\n",
    "\n",
    "**Fecha: Sábado 5 Noviembre 2022**\n",
    "\n",
    "**Parte 1: Notebook 1. Regresión.**"
   ]
  },
  {
   "cell_type": "markdown",
   "metadata": {
    "id": "WUO-kdryVQwK"
   },
   "source": [
    "# Linear Models\n"
   ]
  },
  {
   "cell_type": "markdown",
   "metadata": {
    "id": "u3ytB4LpVQwM"
   },
   "source": [
    "- In supervised learning, the training data fed to the algorithm includes the desired solutions, called labels. \n",
    "- In **regression**, the labels are continuous quantities.\n",
    "- Linear models predict by computing a weighted sum of input features plus a bias term."
   ]
  },
  {
   "cell_type": "code",
   "execution_count": 1,
   "metadata": {
    "id": "HMp_I4Y6VQwN"
   },
   "outputs": [],
   "source": [
    "import numpy as np\n",
    "%matplotlib inline\n",
    "import matplotlib\n",
    "import matplotlib.pyplot as plt\n",
    "import pandas as pd\n",
    "import seaborn as sns\n",
    "# to make this notebook's output stable across runs\n",
    "np.random.seed(42)\n",
    "\n",
    "from sklearn import metrics\n",
    "from sklearn.metrics import r2_score\n",
    "from sklearn.model_selection import train_test_split\n",
    "\n",
    "from sklearn.pipeline import Pipeline\n",
    "from sklearn.preprocessing import StandardScaler\n",
    "\n",
    "from sklearn.linear_model import Ridge\n",
    "from sklearn.linear_model import Lasso\n",
    "\n",
    "\n"
   ]
  },
  {
   "cell_type": "code",
   "execution_count": 2,
   "metadata": {
    "colab": {
     "base_uri": "https://localhost:8080/"
    },
    "id": "exg6xSYf3F5D",
    "outputId": "09e8c07b-9e62-44e5-9176-9419e1faa96a"
   },
   "outputs": [
    {
     "data": {
      "text/plain": [
       "3"
      ]
     },
     "execution_count": 2,
     "metadata": {},
     "output_type": "execute_result"
    }
   ],
   "source": [
    "5-2"
   ]
  },
  {
   "cell_type": "markdown",
   "metadata": {
    "id": "szpzFXgiVQwN"
   },
   "source": [
    "## Simple Linear Regression\n",
    "\n",
    "Simple linear regression equation:\n",
    "\n",
    "$y = ax + b$\n",
    "<br>\n",
    "$a$: slope\n",
    "<br>\n",
    "$b$: intercept\n",
    "\n",
    "Generate linear-looking data with the equation:\n",
    "\n",
    "$y = 3X + 4 + noise$"
   ]
  },
  {
   "cell_type": "code",
   "execution_count": 3,
   "metadata": {
    "colab": {
     "base_uri": "https://localhost:8080/"
    },
    "id": "mitJFYeiMQqD",
    "outputId": "bcdf26d2-6d99-463c-e124-8273101239da"
   },
   "outputs": [
    {
     "data": {
      "text/plain": [
       "array([[0.37454012],\n",
       "       [0.95071431],\n",
       "       [0.73199394],\n",
       "       [0.59865848],\n",
       "       [0.15601864],\n",
       "       [0.15599452],\n",
       "       [0.05808361],\n",
       "       [0.86617615],\n",
       "       [0.60111501],\n",
       "       [0.70807258],\n",
       "       [0.02058449],\n",
       "       [0.96990985],\n",
       "       [0.83244264],\n",
       "       [0.21233911],\n",
       "       [0.18182497],\n",
       "       [0.18340451],\n",
       "       [0.30424224],\n",
       "       [0.52475643],\n",
       "       [0.43194502],\n",
       "       [0.29122914],\n",
       "       [0.61185289],\n",
       "       [0.13949386],\n",
       "       [0.29214465],\n",
       "       [0.36636184],\n",
       "       [0.45606998],\n",
       "       [0.78517596],\n",
       "       [0.19967378],\n",
       "       [0.51423444],\n",
       "       [0.59241457],\n",
       "       [0.04645041],\n",
       "       [0.60754485],\n",
       "       [0.17052412],\n",
       "       [0.06505159],\n",
       "       [0.94888554],\n",
       "       [0.96563203],\n",
       "       [0.80839735],\n",
       "       [0.30461377],\n",
       "       [0.09767211],\n",
       "       [0.68423303],\n",
       "       [0.44015249],\n",
       "       [0.12203823],\n",
       "       [0.49517691],\n",
       "       [0.03438852],\n",
       "       [0.9093204 ],\n",
       "       [0.25877998],\n",
       "       [0.66252228],\n",
       "       [0.31171108],\n",
       "       [0.52006802],\n",
       "       [0.54671028],\n",
       "       [0.18485446],\n",
       "       [0.96958463],\n",
       "       [0.77513282],\n",
       "       [0.93949894],\n",
       "       [0.89482735],\n",
       "       [0.59789998],\n",
       "       [0.92187424],\n",
       "       [0.0884925 ],\n",
       "       [0.19598286],\n",
       "       [0.04522729],\n",
       "       [0.32533033],\n",
       "       [0.38867729],\n",
       "       [0.27134903],\n",
       "       [0.82873751],\n",
       "       [0.35675333],\n",
       "       [0.28093451],\n",
       "       [0.54269608],\n",
       "       [0.14092422],\n",
       "       [0.80219698],\n",
       "       [0.07455064],\n",
       "       [0.98688694],\n",
       "       [0.77224477],\n",
       "       [0.19871568],\n",
       "       [0.00552212],\n",
       "       [0.81546143],\n",
       "       [0.70685734],\n",
       "       [0.72900717],\n",
       "       [0.77127035],\n",
       "       [0.07404465],\n",
       "       [0.35846573],\n",
       "       [0.11586906],\n",
       "       [0.86310343],\n",
       "       [0.62329813],\n",
       "       [0.33089802],\n",
       "       [0.06355835],\n",
       "       [0.31098232],\n",
       "       [0.32518332],\n",
       "       [0.72960618],\n",
       "       [0.63755747],\n",
       "       [0.88721274],\n",
       "       [0.47221493],\n",
       "       [0.11959425],\n",
       "       [0.71324479],\n",
       "       [0.76078505],\n",
       "       [0.5612772 ],\n",
       "       [0.77096718],\n",
       "       [0.4937956 ],\n",
       "       [0.52273283],\n",
       "       [0.42754102],\n",
       "       [0.02541913],\n",
       "       [0.10789143]])"
      ]
     },
     "execution_count": 3,
     "metadata": {},
     "output_type": "execute_result"
    }
   ],
   "source": [
    "np.random.rand(100, 1)"
   ]
  },
  {
   "cell_type": "code",
   "execution_count": 4,
   "metadata": {
    "colab": {
     "base_uri": "https://localhost:8080/",
     "height": 265
    },
    "id": "QyubE1VEVQwN",
    "outputId": "c88964d8-4f37-4a29-8c8b-83704e30211b"
   },
   "outputs": [
    {
     "data": {
      "image/png": "[encoded data removed]",
      "text/plain": [
       "<Figure size 432x288 with 1 Axes>"
      ]
     },
     "metadata": {
      "needs_background": "light"
     },
     "output_type": "display_data"
    }
   ],
   "source": [
    "X = 2*np.random.rand(100, 1)\n",
    "y = 4 + 3 * X + np.random.randn(100, 1)\n",
    "plt.scatter(X, y);"
   ]
  },
  {
   "cell_type": "code",
   "execution_count": 5,
   "metadata": {
    "colab": {
     "base_uri": "https://localhost:8080/",
     "height": 423
    },
    "id": "M5kaENJ4bZY5",
    "outputId": "80a86255-e6f9-4405-f3d4-6f401ccde033"
   },
   "outputs": [
    {
     "data": {
      "text/html": [
       "<div>\n",
       "<style scoped>\n",
       "    .dataframe tbody tr th:only-of-type {\n",
       "        vertical-align: middle;\n",
       "    }\n",
       "\n",
       "    .dataframe tbody tr th {\n",
       "        vertical-align: top;\n",
       "    }\n",
       "\n",
       "    .dataframe thead th {\n",
       "        text-align: right;\n",
       "    }\n",
       "</style>\n",
       "<table border=\"1\" class=\"dataframe\">\n",
       "  <thead>\n",
       "    <tr style=\"text-align: right;\">\n",
       "      <th></th>\n",
       "      <th>0</th>\n",
       "    </tr>\n",
       "  </thead>\n",
       "  <tbody>\n",
       "    <tr>\n",
       "      <th>0</th>\n",
       "      <td>3.508550</td>\n",
       "    </tr>\n",
       "    <tr>\n",
       "      <th>1</th>\n",
       "      <td>8.050716</td>\n",
       "    </tr>\n",
       "    <tr>\n",
       "      <th>2</th>\n",
       "      <td>6.179208</td>\n",
       "    </tr>\n",
       "    <tr>\n",
       "      <th>3</th>\n",
       "      <td>6.337073</td>\n",
       "    </tr>\n",
       "    <tr>\n",
       "      <th>4</th>\n",
       "      <td>11.311173</td>\n",
       "    </tr>\n",
       "    <tr>\n",
       "      <th>...</th>\n",
       "      <td>...</td>\n",
       "    </tr>\n",
       "    <tr>\n",
       "      <th>95</th>\n",
       "      <td>5.441928</td>\n",
       "    </tr>\n",
       "    <tr>\n",
       "      <th>96</th>\n",
       "      <td>10.121188</td>\n",
       "    </tr>\n",
       "    <tr>\n",
       "      <th>97</th>\n",
       "      <td>9.787643</td>\n",
       "    </tr>\n",
       "    <tr>\n",
       "      <th>98</th>\n",
       "      <td>8.061635</td>\n",
       "    </tr>\n",
       "    <tr>\n",
       "      <th>99</th>\n",
       "      <td>9.597115</td>\n",
       "    </tr>\n",
       "  </tbody>\n",
       "</table>\n",
       "<p>100 rows × 1 columns</p>\n",
       "</div>"
      ],
      "text/plain": [
       "            0\n",
       "0    3.508550\n",
       "1    8.050716\n",
       "2    6.179208\n",
       "3    6.337073\n",
       "4   11.311173\n",
       "..        ...\n",
       "95   5.441928\n",
       "96  10.121188\n",
       "97   9.787643\n",
       "98   8.061635\n",
       "99   9.597115\n",
       "\n",
       "[100 rows x 1 columns]"
      ]
     },
     "execution_count": 5,
     "metadata": {},
     "output_type": "execute_result"
    }
   ],
   "source": [
    "import pandas as pd\n",
    "pd.DataFrame(y)"
   ]
  },
  {
   "cell_type": "code",
   "execution_count": 6,
   "metadata": {
    "colab": {
     "base_uri": "https://localhost:8080/"
    },
    "id": "x6XGt_iAVQwO",
    "outputId": "9eb09db5-617b-4f74-c5f9-977e8af61be2"
   },
   "outputs": [
    {
     "data": {
      "text/html": [
       "<style>#sk-container-id-1 {color: black;background-color: white;}#sk-container-id-1 pre{padding: 0;}#sk-container-id-1 div.sk-toggleable {background-color: white;}#sk-container-id-1 label.sk-toggleable__label {cursor: pointer;display: block;width: 100%;margin-bottom: 0;padding: 0.3em;box-sizing: border-box;text-align: center;}#sk-container-id-1 label.sk-toggleable__label-arrow:before {content: \"▸\";float: left;margin-right: 0.25em;color: #696969;}#sk-container-id-1 label.sk-toggleable__label-arrow:hover:before {color: black;}#sk-container-id-1 div.sk-estimator:hover label.sk-toggleable__label-arrow:before {color: black;}#sk-container-id-1 div.sk-toggleable__content {max-height: 0;max-width: 0;overflow: hidden;text-align: left;background-color: #f0f8ff;}#sk-container-id-1 div.sk-toggleable__content pre {margin: 0.2em;color: black;border-radius: 0.25em;background-color: #f0f8ff;}#sk-container-id-1 input.sk-toggleable__control:checked~div.sk-toggleable__content {max-height: 200px;max-width: 100%;overflow: auto;}#sk-container-id-1 input.sk-toggleable__control:checked~label.sk-toggleable__label-arrow:before {content: \"▾\";}#sk-container-id-1 div.sk-estimator input.sk-toggleable__control:checked~label.sk-toggleable__label {background-color: #d4ebff;}#sk-container-id-1 div.sk-label input.sk-toggleable__control:checked~label.sk-toggleable__label {background-color: #d4ebff;}#sk-container-id-1 input.sk-hidden--visually {border: 0;clip: rect(1px 1px 1px 1px);clip: rect(1px, 1px, 1px, 1px);height: 1px;margin: -1px;overflow: hidden;padding: 0;position: absolute;width: 1px;}#sk-container-id-1 div.sk-estimator {font-family: monospace;background-color: #f0f8ff;border: 1px dotted black;border-radius: 0.25em;box-sizing: border-box;margin-bottom: 0.5em;}#sk-container-id-1 div.sk-estimator:hover {background-color: #d4ebff;}#sk-container-id-1 div.sk-parallel-item::after {content: \"\";width: 100%;border-bottom: 1px solid gray;flex-grow: 1;}#sk-container-id-1 div.sk-label:hover label.sk-toggleable__label {background-color: #d4ebff;}#sk-container-id-1 div.sk-serial::before {content: \"\";position: absolute;border-left: 1px solid gray;box-sizing: border-box;top: 0;bottom: 0;left: 50%;z-index: 0;}#sk-container-id-1 div.sk-serial {display: flex;flex-direction: column;align-items: center;background-color: white;padding-right: 0.2em;padding-left: 0.2em;position: relative;}#sk-container-id-1 div.sk-item {position: relative;z-index: 1;}#sk-container-id-1 div.sk-parallel {display: flex;align-items: stretch;justify-content: center;background-color: white;position: relative;}#sk-container-id-1 div.sk-item::before, #sk-container-id-1 div.sk-parallel-item::before {content: \"\";position: absolute;border-left: 1px solid gray;box-sizing: border-box;top: 0;bottom: 0;left: 50%;z-index: -1;}#sk-container-id-1 div.sk-parallel-item {display: flex;flex-direction: column;z-index: 1;position: relative;background-color: white;}#sk-container-id-1 div.sk-parallel-item:first-child::after {align-self: flex-end;width: 50%;}#sk-container-id-1 div.sk-parallel-item:last-child::after {align-self: flex-start;width: 50%;}#sk-container-id-1 div.sk-parallel-item:only-child::after {width: 0;}#sk-container-id-1 div.sk-dashed-wrapped {border: 1px dashed gray;margin: 0 0.4em 0.5em 0.4em;box-sizing: border-box;padding-bottom: 0.4em;background-color: white;}#sk-container-id-1 div.sk-label label {font-family: monospace;font-weight: bold;display: inline-block;line-height: 1.2em;}#sk-container-id-1 div.sk-label-container {text-align: center;}#sk-container-id-1 div.sk-container {/* jupyter's `normalize.less` sets `[hidden] { display: none; }` but bootstrap.min.css set `[hidden] { display: none !important; }` so we also need the `!important` here to be able to override the default hidden behavior on the sphinx rendered scikit-learn.org. See: https://github.com/scikit-learn/scikit-learn/issues/21755 */display: inline-block !important;position: relative;}#sk-container-id-1 div.sk-text-repr-fallback {display: none;}</style><div id=\"sk-container-id-1\" class=\"sk-top-container\"><div class=\"sk-text-repr-fallback\"><pre>LinearRegression()</pre><b>In a Jupyter environment, please rerun this cell to show the HTML representation or trust the notebook. <br />On GitHub, the HTML representation is unable to render, please try loading this page with nbviewer.org.</b></div><div class=\"sk-container\" hidden><div class=\"sk-item\"><div class=\"sk-estimator sk-toggleable\"><input class=\"sk-toggleable__control sk-hidden--visually\" id=\"sk-estimator-id-1\" type=\"checkbox\" checked><label for=\"sk-estimator-id-1\" class=\"sk-toggleable__label sk-toggleable__label-arrow\">LinearRegression</label><div class=\"sk-toggleable__content\"><pre>LinearRegression()</pre></div></div></div></div></div>"
      ],
      "text/plain": [
       "LinearRegression()"
      ]
     },
     "execution_count": 6,
     "metadata": {},
     "output_type": "execute_result"
    }
   ],
   "source": [
    "from sklearn.linear_model import LinearRegression\n",
    "\n",
    "linear_reg = LinearRegression(fit_intercept=True)\n",
    "linear_reg.fit(X, y)"
   ]
  },
  {
   "cell_type": "markdown",
   "metadata": {
    "id": "Hnm9YgjbVQwO"
   },
   "source": [
    "Plot the model's predictions:"
   ]
  },
  {
   "cell_type": "code",
   "execution_count": 7,
   "metadata": {
    "id": "9NtrLfGGVQwP"
   },
   "outputs": [],
   "source": [
    "#X_fit[]"
   ]
  },
  {
   "cell_type": "code",
   "execution_count": 8,
   "metadata": {
    "colab": {
     "base_uri": "https://localhost:8080/",
     "height": 287
    },
    "id": "1ZTT31igVQwP",
    "outputId": "86dd5a56-503e-4d31-a2c9-369e45a62666"
   },
   "outputs": [
    {
     "data": {
      "image/png": "[encoded data removed]",
      "text/plain": [
       "<Figure size 432x288 with 1 Axes>"
      ]
     },
     "metadata": {
      "needs_background": "light"
     },
     "output_type": "display_data"
    }
   ],
   "source": [
    "# construct best fit line\n",
    "X_fit = np.linspace(0, 2, 100)\n",
    "y_fit = linear_reg.predict(X_fit[:, np.newaxis])\n",
    "\n",
    "plt.scatter(X, y)\n",
    "plt.plot(X_fit, y_fit, \"r-\", linewidth=2, label=\"Predictions\")\n",
    "plt.xlabel(\"$X$\", fontsize=18)\n",
    "plt.ylabel(\"$y$\", rotation=0, fontsize=18)\n",
    "plt.legend(loc=\"upper left\", fontsize=14);"
   ]
  },
  {
   "cell_type": "markdown",
   "metadata": {
    "id": "kIfOsEcWVQwP"
   },
   "source": [
    "Predictions are a good fit."
   ]
  },
  {
   "cell_type": "markdown",
   "metadata": {
    "id": "z2VYUeGrVQwQ"
   },
   "source": [
    "Generate new data to make predictions with the model:"
   ]
  },
  {
   "cell_type": "code",
   "execution_count": 9,
   "metadata": {
    "colab": {
     "base_uri": "https://localhost:8080/"
    },
    "id": "FuEd0Wp0VQwQ",
    "outputId": "367f69d6-5d6a-4dd8-a2b2-1c7de2340fdd"
   },
   "outputs": [
    {
     "data": {
      "text/plain": [
       "array([[0],\n",
       "       [2]])"
      ]
     },
     "execution_count": 9,
     "metadata": {},
     "output_type": "execute_result"
    }
   ],
   "source": [
    "X_new = np.array([[0], [2]])\n",
    "X_new"
   ]
  },
  {
   "cell_type": "code",
   "execution_count": 10,
   "metadata": {
    "colab": {
     "base_uri": "https://localhost:8080/"
    },
    "id": "lLCnLm7_VQwQ",
    "outputId": "40e094c6-54d4-4019-9748-81cca8f6820e"
   },
   "outputs": [
    {
     "data": {
      "text/plain": [
       "(2, 1)"
      ]
     },
     "execution_count": 10,
     "metadata": {},
     "output_type": "execute_result"
    }
   ],
   "source": [
    "X_new.shape"
   ]
  },
  {
   "cell_type": "code",
   "execution_count": 11,
   "metadata": {
    "colab": {
     "base_uri": "https://localhost:8080/"
    },
    "id": "zJIzUfZsVQwQ",
    "outputId": "e7cfadbc-9048-4843-c3cb-c728cdc90f50"
   },
   "outputs": [
    {
     "data": {
      "text/plain": [
       "array([[ 3.74406122],\n",
       "       [10.47517611]])"
      ]
     },
     "execution_count": 11,
     "metadata": {},
     "output_type": "execute_result"
    }
   ],
   "source": [
    "y_new = linear_reg.predict(X_new)\n",
    "y_new"
   ]
  },
  {
   "cell_type": "code",
   "execution_count": 12,
   "metadata": {
    "colab": {
     "base_uri": "https://localhost:8080/"
    },
    "id": "ICiEnkbdVQwQ",
    "outputId": "300cd885-b624-4eb8-8c55-70c953c23b70"
   },
   "outputs": [
    {
     "data": {
      "text/plain": [
       "(array([[3.36555744]]), array([3.74406122]))"
      ]
     },
     "execution_count": 12,
     "metadata": {},
     "output_type": "execute_result"
    }
   ],
   "source": [
    " linear_reg.coef_, linear_reg.intercept_"
   ]
  },
  {
   "cell_type": "markdown",
   "metadata": {
    "id": "iBXzOecgVQwR"
   },
   "source": [
    "The model estimates:\n",
    "\n",
    "$\\hat{y} = 3.36X + 3.74$"
   ]
  },
  {
   "cell_type": "code",
   "execution_count": 13,
   "metadata": {
    "id": "ZNvipq0wQYfj"
   },
   "outputs": [],
   "source": [
    "#|VENTAS|GANANCIAS|\n",
    "#COEF*VENTAS+B\n",
    "#|VENTAS|COMPRAS|GANANCIAS|\n",
    "#COEF1*X1+COEF2*X2+B=Y"
   ]
  },
  {
   "cell_type": "markdown",
   "metadata": {
    "id": "_Rv-RJSnVQwR"
   },
   "source": [
    "## Polynomial Regression\n",
    "\n",
    "If data is more complex than a straight line, you can use a linear model ti fit non-linear data adding powers of each feature as new features and then train a linear model on the extended set of features. "
   ]
  },
  {
   "cell_type": "markdown",
   "metadata": {
    "id": "dPrpAVsZVQwR"
   },
   "source": [
    "$$y = a_0 + a_1x_1 + a_2x_2 + a_3x_3 + ...$$ to $$y = a_0 + a_1x + a_2x^2 + a_3x^3+ ...$$ "
   ]
  },
  {
   "cell_type": "markdown",
   "metadata": {
    "id": "9kjMWzEfVQwR"
   },
   "source": [
    "This is still a linear model, the linearity refers to the fact that the coefficients never multiply or divide each other."
   ]
  },
  {
   "cell_type": "markdown",
   "metadata": {
    "id": "2M3fp_CSVQwR"
   },
   "source": [
    "To generate polynomial data we use the function:\n",
    "\n",
    "$y = 0.50X^2 + X + 2 + noise$"
   ]
  },
  {
   "cell_type": "code",
   "execution_count": 14,
   "metadata": {
    "id": "sSrueMnPVQwR"
   },
   "outputs": [],
   "source": [
    "# generate non-linear data e.g. quadratic equation\n",
    "m = 100\n",
    "X = 6 * np.random.rand(m, 1) - 3\n",
    "y = 0.5 * X**2 + X + 2 + np.random.randn(m, 1)"
   ]
  },
  {
   "cell_type": "code",
   "execution_count": 15,
   "metadata": {
    "colab": {
     "base_uri": "https://localhost:8080/",
     "height": 291
    },
    "id": "GNQQoXkMVQwS",
    "outputId": "5284814d-3b79-4a75-c7c3-a26c161846ca"
   },
   "outputs": [
    {
     "data": {
      "image/png": "[encoded data removed]",
      "text/plain": [
       "<Figure size 432x288 with 1 Axes>"
      ]
     },
     "metadata": {
      "needs_background": "light"
     },
     "output_type": "display_data"
    }
   ],
   "source": [
    "plt.plot(X, y, \"b.\")\n",
    "plt.xlabel(\"$x_1$\", fontsize=18)\n",
    "plt.ylabel(\"$y$\", rotation=0, fontsize=18)\n",
    "plt.axis([-3, 3, 0, 10]);"
   ]
  },
  {
   "cell_type": "code",
   "execution_count": 16,
   "metadata": {
    "colab": {
     "base_uri": "https://localhost:8080/",
     "height": 423
    },
    "id": "YtaK_dsidNcP",
    "outputId": "ed940d74-045d-4578-a1c1-3cac6bbea074"
   },
   "outputs": [
    {
     "data": {
      "text/html": [
       "<div>\n",
       "<style scoped>\n",
       "    .dataframe tbody tr th:only-of-type {\n",
       "        vertical-align: middle;\n",
       "    }\n",
       "\n",
       "    .dataframe tbody tr th {\n",
       "        vertical-align: top;\n",
       "    }\n",
       "\n",
       "    .dataframe thead th {\n",
       "        text-align: right;\n",
       "    }\n",
       "</style>\n",
       "<table border=\"1\" class=\"dataframe\">\n",
       "  <thead>\n",
       "    <tr style=\"text-align: right;\">\n",
       "      <th></th>\n",
       "      <th>0</th>\n",
       "    </tr>\n",
       "  </thead>\n",
       "  <tbody>\n",
       "    <tr>\n",
       "      <th>0</th>\n",
       "      <td>8.529240</td>\n",
       "    </tr>\n",
       "    <tr>\n",
       "      <th>1</th>\n",
       "      <td>3.768929</td>\n",
       "    </tr>\n",
       "    <tr>\n",
       "      <th>2</th>\n",
       "      <td>3.354423</td>\n",
       "    </tr>\n",
       "    <tr>\n",
       "      <th>3</th>\n",
       "      <td>2.747935</td>\n",
       "    </tr>\n",
       "    <tr>\n",
       "      <th>4</th>\n",
       "      <td>0.808458</td>\n",
       "    </tr>\n",
       "    <tr>\n",
       "      <th>...</th>\n",
       "      <td>...</td>\n",
       "    </tr>\n",
       "    <tr>\n",
       "      <th>95</th>\n",
       "      <td>5.346771</td>\n",
       "    </tr>\n",
       "    <tr>\n",
       "      <th>96</th>\n",
       "      <td>6.338229</td>\n",
       "    </tr>\n",
       "    <tr>\n",
       "      <th>97</th>\n",
       "      <td>3.488785</td>\n",
       "    </tr>\n",
       "    <tr>\n",
       "      <th>98</th>\n",
       "      <td>1.372002</td>\n",
       "    </tr>\n",
       "    <tr>\n",
       "      <th>99</th>\n",
       "      <td>-0.072150</td>\n",
       "    </tr>\n",
       "  </tbody>\n",
       "</table>\n",
       "<p>100 rows × 1 columns</p>\n",
       "</div>"
      ],
      "text/plain": [
       "           0\n",
       "0   8.529240\n",
       "1   3.768929\n",
       "2   3.354423\n",
       "3   2.747935\n",
       "4   0.808458\n",
       "..       ...\n",
       "95  5.346771\n",
       "96  6.338229\n",
       "97  3.488785\n",
       "98  1.372002\n",
       "99 -0.072150\n",
       "\n",
       "[100 rows x 1 columns]"
      ]
     },
     "execution_count": 16,
     "metadata": {},
     "output_type": "execute_result"
    }
   ],
   "source": [
    "import pandas as pd\n",
    "pd.DataFrame(y)"
   ]
  },
  {
   "cell_type": "markdown",
   "metadata": {
    "id": "vrZTRaLNVQwS"
   },
   "source": [
    "Now we can use `PolynomialFeatues` to transform training data adding the square of each feature as new features."
   ]
  },
  {
   "cell_type": "code",
   "execution_count": 17,
   "metadata": {
    "id": "BXo0Hm56VQwS"
   },
   "outputs": [],
   "source": [
    "from sklearn.preprocessing import PolynomialFeatures\n",
    "\n",
    "poly_features = PolynomialFeatures(degree=2, include_bias=False)\n",
    "X_poly = poly_features.fit_transform(X)"
   ]
  },
  {
   "cell_type": "code",
   "execution_count": 18,
   "metadata": {
    "colab": {
     "base_uri": "https://localhost:8080/"
    },
    "id": "1FqY9-I4VQwS",
    "outputId": "d5d3ca46-6530-4848-96a2-2a9c61918fbc"
   },
   "outputs": [
    {
     "data": {
      "text/plain": [
       "array([[ 2.72919168e+00,  7.44848725e+00],\n",
       "       [ 1.42738150e+00,  2.03741795e+00],\n",
       "       [ 3.26124315e-01,  1.06357069e-01],\n",
       "       [ 6.70324477e-01,  4.49334905e-01],\n",
       "       [-4.82399625e-01,  2.32709399e-01],\n",
       "       [-1.51361406e+00,  2.29102753e+00],\n",
       "       [-8.64163928e-01,  7.46779295e-01],\n",
       "       [ 1.54707666e+00,  2.39344620e+00],\n",
       "       [-2.91363907e+00,  8.48929262e+00],\n",
       "       [-2.30356416e+00,  5.30640783e+00],\n",
       "       [-2.72398415e+00,  7.42008964e+00],\n",
       "       [-2.75562719e+00,  7.59348119e+00],\n",
       "       [ 2.13276350e+00,  4.54868016e+00],\n",
       "       [ 1.22194716e+00,  1.49315485e+00],\n",
       "       [-1.54957025e-01,  2.40116797e-02],\n",
       "       [-2.41299504e+00,  5.82254504e+00],\n",
       "       [-5.03047493e-02,  2.53056780e-03],\n",
       "       [-1.59169375e-01,  2.53348900e-02],\n",
       "       [-1.96078878e+00,  3.84469264e+00],\n",
       "       [-3.96890105e-01,  1.57521755e-01],\n",
       "       [-6.08971594e-01,  3.70846402e-01],\n",
       "       [ 6.95100588e-01,  4.83164828e-01],\n",
       "       [ 8.10561905e-01,  6.57010602e-01],\n",
       "       [-2.72817594e+00,  7.44294397e+00],\n",
       "       [-7.52324312e-01,  5.65991871e-01],\n",
       "       [ 7.55159494e-01,  5.70265862e-01],\n",
       "       [ 1.88175515e-02,  3.54100244e-04],\n",
       "       [ 2.13893905e+00,  4.57506025e+00],\n",
       "       [ 9.52161790e-01,  9.06612074e-01],\n",
       "       [-2.02239344e+00,  4.09007522e+00],\n",
       "       [-2.57658752e+00,  6.63880323e+00],\n",
       "       [ 8.54515669e-01,  7.30197029e-01],\n",
       "       [-2.84093214e+00,  8.07089541e+00],\n",
       "       [ 5.14653488e-01,  2.64868212e-01],\n",
       "       [ 2.64138145e+00,  6.97689596e+00],\n",
       "       [ 4.52845067e-01,  2.05068655e-01],\n",
       "       [-6.70980443e-01,  4.50214755e-01],\n",
       "       [ 8.59729311e-01,  7.39134488e-01],\n",
       "       [-2.50482657e-01,  6.27415615e-02],\n",
       "       [ 2.73700736e-01,  7.49120928e-02],\n",
       "       [ 2.64878885e+00,  7.01608239e+00],\n",
       "       [-6.83384173e-01,  4.67013928e-01],\n",
       "       [ 2.76714338e+00,  7.65708250e+00],\n",
       "       [ 2.43210385e+00,  5.91512915e+00],\n",
       "       [-1.82525319e+00,  3.33154921e+00],\n",
       "       [-2.58383219e+00,  6.67618881e+00],\n",
       "       [-2.39533199e+00,  5.73761535e+00],\n",
       "       [-2.89066905e+00,  8.35596753e+00],\n",
       "       [-2.43334224e+00,  5.92115443e+00],\n",
       "       [ 1.09804064e+00,  1.20569325e+00],\n",
       "       [-2.57286811e+00,  6.61965031e+00],\n",
       "       [-1.08614622e+00,  1.17971361e+00],\n",
       "       [ 2.06925187e+00,  4.28180328e+00],\n",
       "       [-2.86036839e+00,  8.18170730e+00],\n",
       "       [ 1.88681090e+00,  3.56005536e+00],\n",
       "       [-1.30887135e+00,  1.71314421e+00],\n",
       "       [-2.29101103e+00,  5.24873156e+00],\n",
       "       [ 1.18042299e+00,  1.39339844e+00],\n",
       "       [ 7.73657081e-01,  5.98545278e-01],\n",
       "       [ 2.26483208e+00,  5.12946436e+00],\n",
       "       [ 1.41042626e+00,  1.98930224e+00],\n",
       "       [ 1.82088558e+00,  3.31562430e+00],\n",
       "       [-1.30779256e+00,  1.71032139e+00],\n",
       "       [-1.93536274e+00,  3.74562893e+00],\n",
       "       [ 1.50368851e+00,  2.26107913e+00],\n",
       "       [ 1.84100844e+00,  3.38931206e+00],\n",
       "       [ 2.94303085e+00,  8.66143060e+00],\n",
       "       [-5.24293939e-01,  2.74884134e-01],\n",
       "       [-7.67891485e-01,  5.89657333e-01],\n",
       "       [ 1.65847776e+00,  2.75054850e+00],\n",
       "       [-9.55178758e-01,  9.12366461e-01],\n",
       "       [ 2.58454395e+00,  6.67986745e+00],\n",
       "       [ 2.15047651e+00,  4.62454922e+00],\n",
       "       [-4.26035836e-01,  1.81506533e-01],\n",
       "       [ 1.50522641e+00,  2.26570654e+00],\n",
       "       [ 1.52725724e+00,  2.33251469e+00],\n",
       "       [-2.38125679e+00,  5.67038389e+00],\n",
       "       [ 2.41531744e+00,  5.83375834e+00],\n",
       "       [ 3.15142347e-02,  9.93146988e-04],\n",
       "       [ 1.95874480e+00,  3.83668118e+00],\n",
       "       [-1.07970239e+00,  1.16575726e+00],\n",
       "       [ 2.37313937e+00,  5.63179047e+00],\n",
       "       [-6.64789928e-01,  4.41945648e-01],\n",
       "       [-2.93497409e+00,  8.61407292e+00],\n",
       "       [ 2.43229186e+00,  5.91604369e+00],\n",
       "       [-2.45227994e+00,  6.01367690e+00],\n",
       "       [-1.08411817e+00,  1.17531222e+00],\n",
       "       [ 2.70037180e+00,  7.29200787e+00],\n",
       "       [ 2.70364288e+00,  7.30968483e+00],\n",
       "       [ 4.40627329e-01,  1.94152443e-01],\n",
       "       [ 7.91023273e-01,  6.25717818e-01],\n",
       "       [-3.09326868e-01,  9.56831113e-02],\n",
       "       [-1.24073537e+00,  1.53942426e+00],\n",
       "       [-1.02801273e+00,  1.05681017e+00],\n",
       "       [ 1.03511074e+00,  1.07145424e+00],\n",
       "       [ 1.51424718e+00,  2.29294451e+00],\n",
       "       [ 1.74947426e+00,  3.06066019e+00],\n",
       "       [ 1.73770886e+00,  3.01963207e+00],\n",
       "       [-2.45276338e+00,  6.01604821e+00],\n",
       "       [-3.34781718e-02,  1.12078799e-03]])"
      ]
     },
     "execution_count": 18,
     "metadata": {},
     "output_type": "execute_result"
    }
   ],
   "source": [
    "X_poly"
   ]
  },
  {
   "cell_type": "markdown",
   "metadata": {
    "id": "GrFMRU_eVQwS"
   },
   "source": [
    "`X_poly` now contains the original feature of X plus the square of the feature:"
   ]
  },
  {
   "cell_type": "code",
   "execution_count": 19,
   "metadata": {
    "colab": {
     "base_uri": "https://localhost:8080/"
    },
    "id": "M8FH1dY2UwgN",
    "outputId": "b1ab252f-15be-4663-8014-d7420047017e"
   },
   "outputs": [
    {
     "name": "stdout",
     "output_type": "stream",
     "text": [
      "[2.72919168]\n",
      "[7.44848725]\n"
     ]
    }
   ],
   "source": [
    "print(X[0])\n",
    "print(X[0]*X[0])\n"
   ]
  },
  {
   "cell_type": "code",
   "execution_count": 20,
   "metadata": {
    "colab": {
     "base_uri": "https://localhost:8080/"
    },
    "id": "PSflPniWVQwT",
    "outputId": "5c8dc768-8e52-42f9-e790-5ba1ce7d5816"
   },
   "outputs": [
    {
     "data": {
      "text/plain": [
       "array([2.72919168, 7.44848725])"
      ]
     },
     "execution_count": 20,
     "metadata": {},
     "output_type": "execute_result"
    }
   ],
   "source": [
    "X_poly[0]"
   ]
  },
  {
   "cell_type": "markdown",
   "metadata": {
    "id": "HaXjXg7FVQwT"
   },
   "source": [
    "Fit the model to this extended training data:"
   ]
  },
  {
   "cell_type": "code",
   "execution_count": 21,
   "metadata": {
    "colab": {
     "base_uri": "https://localhost:8080/"
    },
    "id": "c0Qu93dgVQwT",
    "outputId": "2d33bd34-f425-4206-87b9-49daa184637c"
   },
   "outputs": [
    {
     "data": {
      "text/plain": [
       "(array([[1.04271531, 0.50866711]]), array([2.01873554]))"
      ]
     },
     "execution_count": 21,
     "metadata": {},
     "output_type": "execute_result"
    }
   ],
   "source": [
    "lin_reg = LinearRegression(fit_intercept=True)\n",
    "lin_reg.fit(X_poly, y)\n",
    "lin_reg.coef_, lin_reg.intercept_"
   ]
  },
  {
   "cell_type": "markdown",
   "metadata": {
    "id": "rKOSwvnmVQwT"
   },
   "source": [
    "The model estimates:\n",
    "\n",
    "$\\hat{y} =  0.89X +0.48X^2 + 2.09$"
   ]
  },
  {
   "cell_type": "markdown",
   "metadata": {
    "id": "_EtZEKz5VQwT"
   },
   "source": [
    "Plot the data and the predictions:"
   ]
  },
  {
   "cell_type": "code",
   "execution_count": 22,
   "metadata": {
    "colab": {
     "base_uri": "https://localhost:8080/",
     "height": 291
    },
    "id": "6Q8dHRgdVQwT",
    "outputId": "eeb2ed3a-bcc3-4f4d-b052-65f07a498a05"
   },
   "outputs": [
    {
     "data": {
      "image/png": "[encoded data removed]",
      "text/plain": [
       "<Figure size 432x288 with 1 Axes>"
      ]
     },
     "metadata": {
      "needs_background": "light"
     },
     "output_type": "display_data"
    }
   ],
   "source": [
    "X_new=np.linspace(-3, 3, 100).reshape(100, 1)\n",
    "X_new_poly = poly_features.transform(X_new)\n",
    "y_new = lin_reg.predict(X_new_poly)\n",
    "plt.plot(X, y, \"b.\")\n",
    "plt.plot(X_new, y_new, \"r-\", linewidth=2, label=\"Predictions\")\n",
    "plt.xlabel(\"$x_1$\", fontsize=18)\n",
    "plt.ylabel(\"$y$\", rotation=0, fontsize=18)\n",
    "plt.legend(loc=\"upper left\", fontsize=14)\n",
    "plt.axis([-3, 3, 0, 10]);"
   ]
  },
  {
   "cell_type": "markdown",
   "metadata": {
    "id": "TIFwAtW1pc6h"
   },
   "source": [
    "## R square\n",
    "\n",
    "R² es una medida estadística de qué tan cerca están los datos de la línea de regresión ajustada. También se conoce como el coeficiente de determinación o el coeficiente de determinación múltiple para la regresión múltiple. Para decirlo en un lenguaje más simple, R² es una medida de ajuste para los modelos de regresión lineal.\n",
    "\n",
    "\n",
    "\n",
    "R² no indica si un modelo de regresión se ajusta adecuadamente a sus datos. Un buen modelo puede tener un valor R² bajo. Por otro lado, un modelo sesgado puede tener un valor alto de R².\n",
    "\n",
    " SSres + SSreg = SStot, R² = Explained variation / Total Variation\n",
    " \n",
    " ![image.png](https://i.stack.imgur.com/xb1VY.png)\n",
    " \n",
    "![image.png](https://3.bp.blogspot.com/-MFqQLwbGwd4/WMO7tz39beI/AAAAAAAAF9I/Bjpfohgv_5E4lu7HzHJBQtXsBM--byqPwCLcB/s1600/rsquared.png)\n"
   ]
  },
  {
   "cell_type": "markdown",
   "metadata": {
    "id": "nTKFj4x9LMXm"
   },
   "source": [
    "# Ejercicio 1\n",
    "\n",
    "Utiliza la base de datos de \n",
    "https://www.kaggle.com/vinicius150987/manufacturing-cost\n",
    "\n",
    "Suponga que trabaja como consultor de una empresa de nueva creación que busca desarrollar un modelo para estimar el costo de los bienes vendidos a medida que varían el volumen de producción (número de unidades producidas). La startup recopiló datos y le pidió que desarrollara un modelo para predecir su costo frente a la cantidad de unidades vendidas."
   ]
  },
  {
   "cell_type": "code",
   "execution_count": 23,
   "metadata": {
    "colab": {
     "base_uri": "https://localhost:8080/",
     "height": 363
    },
    "id": "oTnErQOkL3oa",
    "outputId": "52622ce8-8aca-44fe-afe4-b50d0784225c"
   },
   "outputs": [
    {
     "data": {
      "text/html": [
       "<div>\n",
       "<style scoped>\n",
       "    .dataframe tbody tr th:only-of-type {\n",
       "        vertical-align: middle;\n",
       "    }\n",
       "\n",
       "    .dataframe tbody tr th {\n",
       "        vertical-align: top;\n",
       "    }\n",
       "\n",
       "    .dataframe thead th {\n",
       "        text-align: right;\n",
       "    }\n",
       "</style>\n",
       "<table border=\"1\" class=\"dataframe\">\n",
       "  <thead>\n",
       "    <tr style=\"text-align: right;\">\n",
       "      <th></th>\n",
       "      <th>Number of Units</th>\n",
       "      <th>Manufacturing Cost</th>\n",
       "    </tr>\n",
       "  </thead>\n",
       "  <tbody>\n",
       "    <tr>\n",
       "      <th>968</th>\n",
       "      <td>7.065653</td>\n",
       "      <td>27.804027</td>\n",
       "    </tr>\n",
       "    <tr>\n",
       "      <th>212</th>\n",
       "      <td>3.372115</td>\n",
       "      <td>41.127212</td>\n",
       "    </tr>\n",
       "    <tr>\n",
       "      <th>416</th>\n",
       "      <td>4.194513</td>\n",
       "      <td>43.832711</td>\n",
       "    </tr>\n",
       "    <tr>\n",
       "      <th>677</th>\n",
       "      <td>5.068888</td>\n",
       "      <td>41.225741</td>\n",
       "    </tr>\n",
       "    <tr>\n",
       "      <th>550</th>\n",
       "      <td>4.604122</td>\n",
       "      <td>37.569764</td>\n",
       "    </tr>\n",
       "    <tr>\n",
       "      <th>764</th>\n",
       "      <td>5.389522</td>\n",
       "      <td>31.191501</td>\n",
       "    </tr>\n",
       "    <tr>\n",
       "      <th>386</th>\n",
       "      <td>4.104190</td>\n",
       "      <td>42.988730</td>\n",
       "    </tr>\n",
       "    <tr>\n",
       "      <th>339</th>\n",
       "      <td>3.942214</td>\n",
       "      <td>46.291435</td>\n",
       "    </tr>\n",
       "    <tr>\n",
       "      <th>82</th>\n",
       "      <td>2.665856</td>\n",
       "      <td>48.578425</td>\n",
       "    </tr>\n",
       "    <tr>\n",
       "      <th>487</th>\n",
       "      <td>4.399514</td>\n",
       "      <td>37.567914</td>\n",
       "    </tr>\n",
       "  </tbody>\n",
       "</table>\n",
       "</div>"
      ],
      "text/plain": [
       "     Number of Units  Manufacturing Cost\n",
       "968         7.065653           27.804027\n",
       "212         3.372115           41.127212\n",
       "416         4.194513           43.832711\n",
       "677         5.068888           41.225741\n",
       "550         4.604122           37.569764\n",
       "764         5.389522           31.191501\n",
       "386         4.104190           42.988730\n",
       "339         3.942214           46.291435\n",
       "82          2.665856           48.578425\n",
       "487         4.399514           37.567914"
      ]
     },
     "execution_count": 23,
     "metadata": {},
     "output_type": "execute_result"
    }
   ],
   "source": [
    "import pandas as pd\n",
    "df = pd.read_csv('https://raw.githubusercontent.com/marypazrf/bdd/main/EconomiesOfScale.csv')\n",
    "df.sample(10)"
   ]
  },
  {
   "cell_type": "code",
   "execution_count": 24,
   "metadata": {
    "id": "14kGO5nkMGlV"
   },
   "outputs": [],
   "source": [
    "X = df[['Number of Units']]\n",
    "y = df['Manufacturing Cost']"
   ]
  },
  {
   "cell_type": "code",
   "execution_count": 25,
   "metadata": {
    "colab": {
     "base_uri": "https://localhost:8080/"
    },
    "id": "ksh_OrkjY3GW",
    "outputId": "2455aae4-2df4-45dd-f6ad-d768abc62342"
   },
   "outputs": [
    {
     "data": {
      "text/plain": [
       "1000"
      ]
     },
     "execution_count": 25,
     "metadata": {},
     "output_type": "execute_result"
    }
   ],
   "source": [
    "len(X)"
   ]
  },
  {
   "cell_type": "code",
   "execution_count": 26,
   "metadata": {
    "colab": {
     "base_uri": "https://localhost:8080/"
    },
    "id": "bwR6SSqQDfC2",
    "outputId": "2537f2f9-3321-4e78-b735-70d8293dce7c"
   },
   "outputs": [
    {
     "data": {
      "text/plain": [
       "<bound method NDFrame.describe of 0      95.066056\n",
       "1      96.531750\n",
       "2      73.661311\n",
       "3      95.566843\n",
       "4      98.777013\n",
       "         ...    \n",
       "995    23.855067\n",
       "996    27.536542\n",
       "997    25.973787\n",
       "998    25.138311\n",
       "999    21.547777\n",
       "Name: Manufacturing Cost, Length: 1000, dtype: float64>"
      ]
     },
     "execution_count": 26,
     "metadata": {},
     "output_type": "execute_result"
    }
   ],
   "source": [
    "y.describe"
   ]
  },
  {
   "cell_type": "code",
   "execution_count": 27,
   "metadata": {
    "colab": {
     "base_uri": "https://localhost:8080/",
     "height": 283
    },
    "id": "idoEjfEhMoxk",
    "outputId": "a42c8de5-1f3f-4bcf-8f03-66b858ca40e0"
   },
   "outputs": [
    {
     "data": {
      "text/plain": [
       "[<matplotlib.lines.Line2D at 0x16c2eead0>]"
      ]
     },
     "execution_count": 27,
     "metadata": {},
     "output_type": "execute_result"
    },
    {
     "data": {
      "image/png": "[encoded data removed]",
      "text/plain": [
       "<Figure size 432x288 with 1 Axes>"
      ]
     },
     "metadata": {
      "needs_background": "light"
     },
     "output_type": "display_data"
    }
   ],
   "source": [
    "plt.plot(X,y,'b.')"
   ]
  },
  {
   "cell_type": "markdown",
   "metadata": {},
   "source": [
    "**Ejercicio 1. Costo en la industria de manufactura. Ahora realizaremos los ejercicios de regresión utilizando una parte para entrenar y otra para evaluar.**\n",
    "\n",
    "Divide los datos del costo de manufactura. Utiliza la función train_test_split (viene el ejemplo al final del notebook).\n"
   ]
  },
  {
   "cell_type": "code",
   "execution_count": 28,
   "metadata": {},
   "outputs": [],
   "source": [
    "# En este punto se hace la división de los datos, con un factor de 0.80 para entrenamiento\n",
    "# como lo vimos en clase\n",
    "\n",
    "X_train, X_test, y_train, y_test = train_test_split(X, y, test_size = 0.2, random_state = 42)"
   ]
  },
  {
   "cell_type": "markdown",
   "metadata": {},
   "source": [
    "**Regresión Lineal.**\n",
    "\n",
    "Realiza la regresión lineal: modelo generado (ecuación), su visualización, sus errores y r cuadrada."
   ]
  },
  {
   "cell_type": "code",
   "execution_count": 29,
   "metadata": {},
   "outputs": [
    {
     "name": "stdout",
     "output_type": "stream",
     "text": [
      "El modelo generado es y= [-6.21850698] x + 67.89012908512076\n",
      "\n",
      "Error medio Absoluto (MAE): 4.513943834797746\n",
      "Root Mean Squared Error: 5.932738736518162\n",
      "r2_score 0.5695897011831417\n",
      "\n",
      "Abajo se muestra la visualización de los datos con su regresión predicha:\n"
     ]
    },
    {
     "name": "stderr",
     "output_type": "stream",
     "text": [
      "/Library/Frameworks/Python.framework/Versions/3.10/lib/python3.10/site-packages/sklearn/base.py:450: UserWarning: X does not have valid feature names, but LinearRegression was fitted with feature names\n",
      "  warnings.warn(\n"
     ]
    },
    {
     "data": {
      "image/png": "[encoded data removed]",
      "text/plain": [
       "<Figure size 432x288 with 1 Axes>"
      ]
     },
     "metadata": {
      "needs_background": "light"
     },
     "output_type": "display_data"
    }
   ],
   "source": [
    "# En esta parte se llama al modelo y se entrena con los datos de Train\n",
    "\n",
    "LR = LinearRegression(fit_intercept=True)\n",
    "LR.fit(X_train, y_train)\n",
    "\n",
    "# Se crean predicciones con el modelo ya entrenado\n",
    "X_fit = np.linspace(0, 10, 1000)\n",
    "y_fit = LR.predict(X_fit[:, np.newaxis])\n",
    "\n",
    "plt.scatter(X_test, y_test)\n",
    "plt.plot(X_fit, y_fit, \"r-\", linewidth=2, label=\"Predictions\")\n",
    "plt.xlabel(\"$X$\", fontsize=18)\n",
    "plt.ylabel(\"$y$\", rotation=0, fontsize=18)\n",
    "plt.legend(loc=\"upper left\", fontsize=14);\n",
    "\n",
    "print(\"El modelo generado es y=\",LR.coef_,\"x +\",LR.intercept_)\n",
    "\n",
    "\n",
    "# En esta parte se hacen los cálculos de los errores con base en entrenar la partición de Test\n",
    "\n",
    "y_pred = LR.predict(X_test)\n",
    "MAE_LR=metrics.mean_absolute_error(y_test,y_pred)\n",
    "R2_LR=r2_score(y_test,y_pred)\n",
    "print('\\nError medio Absoluto (MAE):', metrics.mean_absolute_error(y_test, y_pred))\n",
    "print('Root Mean Squared Error:', np.sqrt(metrics.mean_squared_error(y_test, y_pred)))\n",
    "print('r2_score', r2_score(y_test, y_pred))\n",
    "\n",
    "print(\"\\nAbajo se muestra la visualización de los datos con su regresión predicha:\")"
   ]
  },
  {
   "cell_type": "markdown",
   "metadata": {},
   "source": [
    "**Regresión Polinomial.**\n",
    "\n",
    "Realiza la  regresión polinomial completa, tu modelo generado (ecuación), su visualización, sus errores y r cuadrada."
   ]
  },
  {
   "cell_type": "code",
   "execution_count": 30,
   "metadata": {},
   "outputs": [
    {
     "name": "stdout",
     "output_type": "stream",
     "text": [
      "El modelo generado es y= 1.271819521314982 x2 + -17.816369652617624 x + 92.0358203494911\n",
      "\n",
      "Error medio Absoluto (MAE): 4.372292708304974\n",
      "Root Mean Squared Error: 5.7642490498667875\n",
      "r2_score 0.5936898412489067\n",
      "\n",
      "Abajo se muestra la visualización de los datos con su regresión predicha:\n"
     ]
    },
    {
     "data": {
      "image/png": "[encoded data removed]",
      "text/plain": [
       "<Figure size 432x288 with 1 Axes>"
      ]
     },
     "metadata": {
      "needs_background": "light"
     },
     "output_type": "display_data"
    }
   ],
   "source": [
    "# Se siguen los mismos pasos que en la regresión lineal, solo que ahora llamando a PolynomialFeatures para incluir\n",
    "# el grado con el que queremos trabajar, en este caso el grado 2 para evitar sobreentrenamiento\n",
    "\n",
    "Transf_PR = PolynomialFeatures(degree=2, include_bias = False)\n",
    "XPR_train = Transf_PR.fit_transform(X_train)\n",
    "PR = LinearRegression(fit_intercept=True)\n",
    "PR.fit(XPR_train, y_train)\n",
    "\n",
    "y_pred = PR.predict(XPR_train)\n",
    "\n",
    "X_fit = np.linspace(0, 10, 1000).reshape(1000,1)\n",
    "XPR_train_fit = Transf_PR.fit_transform(X_fit)\n",
    "XPR_train_fit\n",
    "y_fit = PR.predict(XPR_train_fit)\n",
    "\n",
    "plt.scatter(X_test, y_test)\n",
    "plt.plot(X_fit, y_fit, \"r-\", linewidth=2, label=\"Predictions\")\n",
    "plt.xlabel(\"$X$\", fontsize=18)\n",
    "plt.ylabel(\"$y$\", rotation=0, fontsize=18)\n",
    "plt.legend(loc=\"upper left\", fontsize=14);\n",
    "\n",
    "print(\"El modelo generado es y=\",PR.coef_[1],\"x2 +\",PR.coef_[0],\"x +\",PR.intercept_)\n",
    "\n",
    "# En esta parte se hacen los cálculos de los errores con base en entrenar la partición de Test\n",
    "\n",
    "XPR_train = Transf_PR.fit_transform(X_test)\n",
    "y_pred = PR.predict(XPR_train)\n",
    "R2_PR=r2_score(y_test,y_pred)\n",
    "MAE_PR=metrics.mean_absolute_error(y_test,y_pred)\n",
    "print('\\nError medio Absoluto (MAE):', metrics.mean_absolute_error(y_test, y_pred))\n",
    "print('Root Mean Squared Error:', np.sqrt(metrics.mean_squared_error(y_test, y_pred)))\n",
    "print('r2_score',r2_score(y_test, y_pred ))\n",
    "\n",
    "print(\"\\nAbajo se muestra la visualización de los datos con su regresión predicha:\")"
   ]
  },
  {
   "cell_type": "markdown",
   "metadata": {},
   "source": [
    "**Realiza la regresión con Ridge y Lasso.**\n",
    "\n",
    "Incluye la ecuación de tu modelo, visualización , errores y r cuadrada.\n",
    "\n",
    "\n"
   ]
  },
  {
   "cell_type": "code",
   "execution_count": 31,
   "metadata": {},
   "outputs": [
    {
     "name": "stdout",
     "output_type": "stream",
     "text": [
      "Análisis para la penalización Ridge\n",
      "\n",
      "El modelo generado es y= [-6.17547792] x + 67.69832459233837\n",
      "\n",
      "Error medio Absoluto (MAE): 4.506130801850514\n",
      "Root Mean Squared Error: 5.921036118900737\n",
      "r2_score 0.5712860372520076\n",
      "\n",
      "Abajo se muestra la visualización de los datos con su regresión predicha:\n"
     ]
    },
    {
     "name": "stderr",
     "output_type": "stream",
     "text": [
      "/Library/Frameworks/Python.framework/Versions/3.10/lib/python3.10/site-packages/sklearn/base.py:450: UserWarning: X does not have valid feature names, but Ridge was fitted with feature names\n",
      "  warnings.warn(\n"
     ]
    },
    {
     "data": {
      "image/png": "[encoded data removed]",
      "text/plain": [
       "<Figure size 432x288 with 1 Axes>"
      ]
     },
     "metadata": {
      "needs_background": "light"
     },
     "output_type": "display_data"
    }
   ],
   "source": [
    "# Se aplica el modelo de Ridge, después de jugar con varios valores, se observó que un alpha=10 trae los mejores\n",
    "# resultados, aunque en realidad la diferencia entre los distintos valores llega a ser muy poca\n",
    "\n",
    "Ridge_PR=Ridge(alpha = 10, solver = 'auto', random_state = 42)\n",
    "Ridge_PR.fit(X_train,y_train)\n",
    "y_pred=Ridge_PR.predict(X_test)\n",
    "\n",
    "# Se crean predicciones con el modelo ya entrenado\n",
    "X_fit = np.linspace(0, 10, 1000)\n",
    "y_fit = Ridge_PR.predict(X_fit[:, np.newaxis])\n",
    "\n",
    "plt.scatter(X_test, y_test)\n",
    "plt.plot(X_fit, y_fit, \"r-\", linewidth=2, label=\"Predictions\")\n",
    "plt.xlabel(\"$X$\", fontsize=18)\n",
    "plt.ylabel(\"$y$\", rotation=0, fontsize=18)\n",
    "plt.legend(loc=\"upper left\", fontsize=14);\n",
    "\n",
    "print(\"Análisis para la penalización Ridge\\n\")\n",
    "print(\"El modelo generado es y=\",Ridge_PR.coef_,\"x +\",Ridge_PR.intercept_)\n",
    "\n",
    "# En esta parte se hacen los cálculos de los errores con base en entrenar la partición de Test\n",
    "\n",
    "MAE_Ridge=metrics.mean_absolute_error(y_test,y_pred)\n",
    "R2_Ridge=r2_score(y_test,y_pred)\n",
    "print('\\nError medio Absoluto (MAE):', metrics.mean_absolute_error(y_test, y_pred))\n",
    "print('Root Mean Squared Error:', np.sqrt(metrics.mean_squared_error(y_test, y_pred)))\n",
    "print('r2_score', r2_score(y_test, y_pred))\n",
    "\n",
    "print(\"\\nAbajo se muestra la visualización de los datos con su regresión predicha:\")\n",
    "\n"
   ]
  },
  {
   "cell_type": "code",
   "execution_count": 32,
   "metadata": {},
   "outputs": [
    {
     "name": "stderr",
     "output_type": "stream",
     "text": [
      "/Library/Frameworks/Python.framework/Versions/3.10/lib/python3.10/site-packages/sklearn/base.py:450: UserWarning: X does not have valid feature names, but Lasso was fitted with feature names\n",
      "  warnings.warn(\n"
     ]
    },
    {
     "name": "stdout",
     "output_type": "stream",
     "text": [
      "Análisis para la penalización Lasso\n",
      "\n",
      "El modelo generado es y= [-5.66108868] x + 65.40540488853618\n",
      "\n",
      "Error medio Absoluto (MAE): 4.450063719199247\n",
      "Root Mean Squared Error: 5.822404969487834\n",
      "r2_score 0.585449898879745\n",
      "\n",
      "Abajo se muestra la visualización de los datos con su regresión predicha:\n"
     ]
    },
    {
     "data": {
      "image/png": "[encoded data removed]",
      "text/plain": [
       "<Figure size 432x288 with 1 Axes>"
      ]
     },
     "metadata": {
      "needs_background": "light"
     },
     "output_type": "display_data"
    }
   ],
   "source": [
    "# Se aplica el modelo de Lasso, después de jugar con varios valores, se observó que un alpha=1 trae los mejores\n",
    "# resultados, en este caso la diferencia de los valores de alpha si llega a ser muy grande\n",
    "\n",
    "Lasso_PR=Lasso(alpha = 1,random_state = 42)\n",
    "Lasso_PR.fit(X_train,y_train)\n",
    "y_pred=Lasso_PR.predict(X_test)\n",
    "\n",
    "# Se crean predicciones con el modelo ya entrenado\n",
    "X_fit = np.linspace(0, 10, 1000)\n",
    "y_fit = Lasso_PR.predict(X_fit[:, np.newaxis])\n",
    "\n",
    "plt.scatter(X_test, y_test)\n",
    "plt.plot(X_fit, y_fit, \"r-\", linewidth=2, label=\"Predictions\")\n",
    "plt.xlabel(\"$X$\", fontsize=18)\n",
    "plt.ylabel(\"$y$\", rotation=0, fontsize=18)\n",
    "plt.legend(loc=\"upper left\", fontsize=14);\n",
    "print(\"Análisis para la penalización Lasso\\n\")\n",
    "print(\"El modelo generado es y=\",Lasso_PR.coef_,\"x +\",Lasso_PR.intercept_)\n",
    "\n",
    "# En esta parte se hacen los cálculos de los errores con base en entrenar la partición de Test\n",
    "\n",
    "MAE_Lasso=metrics.mean_absolute_error(y_test,y_pred)\n",
    "R2_Lasso=r2_score(y_test,y_pred)\n",
    "print('\\nError medio Absoluto (MAE):', metrics.mean_absolute_error(y_test, y_pred))\n",
    "print('Root Mean Squared Error:', np.sqrt(metrics.mean_squared_error(y_test, y_pred)))\n",
    "print('r2_score', r2_score(y_test, y_pred))\n",
    "\n",
    "print(\"\\nAbajo se muestra la visualización de los datos con su regresión predicha:\")"
   ]
  },
  {
   "cell_type": "markdown",
   "metadata": {},
   "source": [
    "**Finalmente grafica :**\n",
    "\n",
    "MAE (de los cuatro métodos)\n",
    "R2 (de los cuatro métodos)"
   ]
  },
  {
   "cell_type": "code",
   "execution_count": 33,
   "metadata": {},
   "outputs": [
    {
     "name": "stdout",
     "output_type": "stream",
     "text": [
      "MAE\n",
      "[4.513943834797746, 4.372292708304974, 4.506130801850514, 4.450063719199247]\n"
     ]
    },
    {
     "data": {
      "image/png": "[encoded data removed]",
      "text/plain": [
       "<Figure size 1224x504 with 1 Axes>"
      ]
     },
     "metadata": {
      "needs_background": "light"
     },
     "output_type": "display_data"
    }
   ],
   "source": [
    "def diagramas(metricas):\n",
    "    sumt=list()\n",
    "    diagrama=metricas\n",
    "    sumt.append(diagrama)\n",
    "    return sumt\n",
    "\n",
    "Metricas = list()\n",
    "Metricas.append('Linear Regression')\n",
    "Metricas.append('Polynomial Regression')\n",
    "Metricas.append('Ridge')\n",
    "Metricas.append('Lasso')\n",
    "\n",
    "MAE = list()\n",
    "MAE.append(MAE_LR)\n",
    "MAE.append(MAE_PR)\n",
    "MAE.append(MAE_Ridge)\n",
    "MAE.append(MAE_Lasso)\n",
    "\n",
    "fig, ax = plt.subplots(figsize =(17, 7))\n",
    "print(\"MAE\")\n",
    "print(MAE)\n",
    "Metricas=list(Metricas)\n",
    "MAE=list(MAE)\n",
    "plt.bar(Metricas,MAE)\n",
    "\n",
    "\n",
    "plt.show()"
   ]
  },
  {
   "cell_type": "code",
   "execution_count": 34,
   "metadata": {},
   "outputs": [
    {
     "name": "stdout",
     "output_type": "stream",
     "text": [
      "r2\n",
      "[0.5695897011831417, 0.5936898412489067, 0.5712860372520076, 0.585449898879745]\n"
     ]
    },
    {
     "data": {
      "image/png": "[encoded data removed]",
      "text/plain": [
       "<Figure size 1224x504 with 1 Axes>"
      ]
     },
     "metadata": {
      "needs_background": "light"
     },
     "output_type": "display_data"
    }
   ],
   "source": [
    "R2 = list()\n",
    "R2.append(R2_LR)\n",
    "R2.append(R2_PR)\n",
    "R2.append(R2_Ridge)\n",
    "R2.append(R2_Lasso)\n",
    "\n",
    "fig, ax = plt.subplots(figsize =(17,7))\n",
    "print(\"r2\")\n",
    "print(R2)\n",
    "R2=list(R2)\n",
    "plt.bar(Metricas,R2)\n",
    "\n",
    "\n",
    "plt.show()"
   ]
  },
  {
   "cell_type": "markdown",
   "metadata": {},
   "source": [
    "**Explica tus resultados, que método conviene más a la empresa, ¿por qué?**\n",
    "\n",
    "Después de este análisis, podemos concluir que el método de regresión polinomial es el que más conviene a la empresa. Desde el punto de vista matemática, podemos comprobarlo ya que PR fue el que tuvo errores más bajos y al mismo tiempo tuvo el R2 más grande. De igual manera, esto se puede validar de forma visual, pues al graficar los datos originales podemos ver que los datos iniciales como los finales tienen una ligera curvatura, la cual se puede explicar claramente con una regresión polinomial. Aplicando Lasso y Ridge vemos que tampoco hay mucha diferencia pues castigar un modelo lineal solamente tiene la capacidad de modificar la inclinación de la curva.\n",
    "\n",
    "\n",
    "**¿Qué porcentajes de entrenamiento y evaluación?** \n",
    "\n",
    "Después de aplicar algunos porcentajes entre 70/30, 80/20 y 90/10, no observamos mucha diferencia entre cada uno de ellos, por lo que decidimos dejar el porcentaje estándar de 80/20 que vimos en clase para este tipo de datos.\n",
    "\n",
    "**¿Qué error tienes?, ¿es bueno?, ¿cómo lo sabes?**\n",
    "\n",
    "La magnitud de los errores MAE y RMSE estuvieron en el orden de 4 y 5 unidades, mientras que la magnitud de la salida Y está  en el orden de 20 y 70 unidades. Considero que los errores en este punto fueron bastante altos, pero no debido a un mal uso del método, sino por las limitaciones del mismo. La regresión polinomial si está bien entrenada pues sigue claramente la tendencia de los datos, pero el hecho de que para una misma X existan diferentes valores de Y, de diversa magnitud, complica la eficacia del método y provoca que veamos errores de grandes magnitudes. Las regresiones lineales fueron una gran ayuda, pero sin duda correría este tipo de información con otros métodos para probar, como puede ser SVM, red neuronal o random forest. \n",
    "\n",
    "\n"
   ]
  },
  {
   "cell_type": "markdown",
   "metadata": {
    "id": "CfqcmLmxLoe9"
   },
   "source": [
    "**#Ejercicio 2**\n",
    "\n",
    "Realiza la regresión polinomial de los siguientes datos:\n",
    "\n",
    "Encuentra el mejor regresor para los datos de las casas:\n",
    "\n"
   ]
  },
  {
   "cell_type": "code",
   "execution_count": 35,
   "metadata": {
    "id": "57bn0j38qGrg"
   },
   "outputs": [
    {
     "data": {
      "text/html": [
       "<div>\n",
       "<style scoped>\n",
       "    .dataframe tbody tr th:only-of-type {\n",
       "        vertical-align: middle;\n",
       "    }\n",
       "\n",
       "    .dataframe tbody tr th {\n",
       "        vertical-align: top;\n",
       "    }\n",
       "\n",
       "    .dataframe thead th {\n",
       "        text-align: right;\n",
       "    }\n",
       "</style>\n",
       "<table border=\"1\" class=\"dataframe\">\n",
       "  <thead>\n",
       "    <tr style=\"text-align: right;\">\n",
       "      <th></th>\n",
       "      <th>id</th>\n",
       "      <th>date</th>\n",
       "      <th>price</th>\n",
       "      <th>bedrooms</th>\n",
       "      <th>bathrooms</th>\n",
       "      <th>sqft_living</th>\n",
       "      <th>sqft_lot</th>\n",
       "      <th>floors</th>\n",
       "      <th>waterfront</th>\n",
       "      <th>view</th>\n",
       "      <th>...</th>\n",
       "      <th>grade</th>\n",
       "      <th>sqft_above</th>\n",
       "      <th>sqft_basement</th>\n",
       "      <th>yr_built</th>\n",
       "      <th>yr_renovated</th>\n",
       "      <th>zipcode</th>\n",
       "      <th>lat</th>\n",
       "      <th>long</th>\n",
       "      <th>sqft_living15</th>\n",
       "      <th>sqft_lot15</th>\n",
       "    </tr>\n",
       "  </thead>\n",
       "  <tbody>\n",
       "    <tr>\n",
       "      <th>5954</th>\n",
       "      <td>7852020250</td>\n",
       "      <td>20140602T000000</td>\n",
       "      <td>725995.0</td>\n",
       "      <td>4</td>\n",
       "      <td>2.50</td>\n",
       "      <td>3190</td>\n",
       "      <td>7869</td>\n",
       "      <td>2.0</td>\n",
       "      <td>0</td>\n",
       "      <td>2</td>\n",
       "      <td>...</td>\n",
       "      <td>9</td>\n",
       "      <td>3190</td>\n",
       "      <td>0</td>\n",
       "      <td>2001</td>\n",
       "      <td>0</td>\n",
       "      <td>98065</td>\n",
       "      <td>47.5317</td>\n",
       "      <td>-121.866</td>\n",
       "      <td>2630</td>\n",
       "      <td>6739</td>\n",
       "    </tr>\n",
       "    <tr>\n",
       "      <th>8610</th>\n",
       "      <td>6392002020</td>\n",
       "      <td>20150324T000000</td>\n",
       "      <td>559000.0</td>\n",
       "      <td>3</td>\n",
       "      <td>1.75</td>\n",
       "      <td>1700</td>\n",
       "      <td>6500</td>\n",
       "      <td>1.0</td>\n",
       "      <td>0</td>\n",
       "      <td>0</td>\n",
       "      <td>...</td>\n",
       "      <td>8</td>\n",
       "      <td>1700</td>\n",
       "      <td>0</td>\n",
       "      <td>1967</td>\n",
       "      <td>0</td>\n",
       "      <td>98115</td>\n",
       "      <td>47.6837</td>\n",
       "      <td>-122.284</td>\n",
       "      <td>1880</td>\n",
       "      <td>6000</td>\n",
       "    </tr>\n",
       "    <tr>\n",
       "      <th>7650</th>\n",
       "      <td>626049058</td>\n",
       "      <td>20150504T000000</td>\n",
       "      <td>275000.0</td>\n",
       "      <td>5</td>\n",
       "      <td>2.50</td>\n",
       "      <td>2570</td>\n",
       "      <td>17234</td>\n",
       "      <td>1.0</td>\n",
       "      <td>0</td>\n",
       "      <td>0</td>\n",
       "      <td>...</td>\n",
       "      <td>7</td>\n",
       "      <td>1300</td>\n",
       "      <td>1270</td>\n",
       "      <td>1959</td>\n",
       "      <td>0</td>\n",
       "      <td>98133</td>\n",
       "      <td>47.7753</td>\n",
       "      <td>-122.355</td>\n",
       "      <td>1760</td>\n",
       "      <td>7969</td>\n",
       "    </tr>\n",
       "    <tr>\n",
       "      <th>5683</th>\n",
       "      <td>2202500255</td>\n",
       "      <td>20150305T000000</td>\n",
       "      <td>335000.0</td>\n",
       "      <td>3</td>\n",
       "      <td>2.00</td>\n",
       "      <td>1210</td>\n",
       "      <td>9926</td>\n",
       "      <td>1.0</td>\n",
       "      <td>0</td>\n",
       "      <td>0</td>\n",
       "      <td>...</td>\n",
       "      <td>7</td>\n",
       "      <td>1210</td>\n",
       "      <td>0</td>\n",
       "      <td>1954</td>\n",
       "      <td>2015</td>\n",
       "      <td>98006</td>\n",
       "      <td>47.5731</td>\n",
       "      <td>-122.135</td>\n",
       "      <td>1690</td>\n",
       "      <td>9737</td>\n",
       "    </tr>\n",
       "    <tr>\n",
       "      <th>20772</th>\n",
       "      <td>1972200428</td>\n",
       "      <td>20140625T000000</td>\n",
       "      <td>563500.0</td>\n",
       "      <td>3</td>\n",
       "      <td>2.50</td>\n",
       "      <td>1400</td>\n",
       "      <td>1312</td>\n",
       "      <td>3.5</td>\n",
       "      <td>0</td>\n",
       "      <td>0</td>\n",
       "      <td>...</td>\n",
       "      <td>8</td>\n",
       "      <td>1400</td>\n",
       "      <td>0</td>\n",
       "      <td>2007</td>\n",
       "      <td>0</td>\n",
       "      <td>98103</td>\n",
       "      <td>47.6534</td>\n",
       "      <td>-122.355</td>\n",
       "      <td>1350</td>\n",
       "      <td>1312</td>\n",
       "    </tr>\n",
       "    <tr>\n",
       "      <th>6959</th>\n",
       "      <td>723000114</td>\n",
       "      <td>20140505T000000</td>\n",
       "      <td>1395000.0</td>\n",
       "      <td>5</td>\n",
       "      <td>3.50</td>\n",
       "      <td>4010</td>\n",
       "      <td>8510</td>\n",
       "      <td>2.0</td>\n",
       "      <td>0</td>\n",
       "      <td>1</td>\n",
       "      <td>...</td>\n",
       "      <td>9</td>\n",
       "      <td>2850</td>\n",
       "      <td>1160</td>\n",
       "      <td>1971</td>\n",
       "      <td>0</td>\n",
       "      <td>98105</td>\n",
       "      <td>47.6578</td>\n",
       "      <td>-122.286</td>\n",
       "      <td>2610</td>\n",
       "      <td>6128</td>\n",
       "    </tr>\n",
       "    <tr>\n",
       "      <th>10784</th>\n",
       "      <td>4104900340</td>\n",
       "      <td>20150204T000000</td>\n",
       "      <td>710000.0</td>\n",
       "      <td>4</td>\n",
       "      <td>2.50</td>\n",
       "      <td>3220</td>\n",
       "      <td>18618</td>\n",
       "      <td>2.0</td>\n",
       "      <td>0</td>\n",
       "      <td>1</td>\n",
       "      <td>...</td>\n",
       "      <td>10</td>\n",
       "      <td>3220</td>\n",
       "      <td>0</td>\n",
       "      <td>1991</td>\n",
       "      <td>0</td>\n",
       "      <td>98056</td>\n",
       "      <td>47.5326</td>\n",
       "      <td>-122.181</td>\n",
       "      <td>2650</td>\n",
       "      <td>11896</td>\n",
       "    </tr>\n",
       "    <tr>\n",
       "      <th>21528</th>\n",
       "      <td>3416600750</td>\n",
       "      <td>20150217T000000</td>\n",
       "      <td>585000.0</td>\n",
       "      <td>3</td>\n",
       "      <td>2.50</td>\n",
       "      <td>1750</td>\n",
       "      <td>1381</td>\n",
       "      <td>3.0</td>\n",
       "      <td>0</td>\n",
       "      <td>0</td>\n",
       "      <td>...</td>\n",
       "      <td>8</td>\n",
       "      <td>1750</td>\n",
       "      <td>0</td>\n",
       "      <td>2008</td>\n",
       "      <td>0</td>\n",
       "      <td>98122</td>\n",
       "      <td>47.6021</td>\n",
       "      <td>-122.294</td>\n",
       "      <td>1940</td>\n",
       "      <td>4800</td>\n",
       "    </tr>\n",
       "    <tr>\n",
       "      <th>12319</th>\n",
       "      <td>2386000070</td>\n",
       "      <td>20141029T000000</td>\n",
       "      <td>795127.0</td>\n",
       "      <td>4</td>\n",
       "      <td>3.25</td>\n",
       "      <td>4360</td>\n",
       "      <td>91158</td>\n",
       "      <td>1.0</td>\n",
       "      <td>0</td>\n",
       "      <td>0</td>\n",
       "      <td>...</td>\n",
       "      <td>10</td>\n",
       "      <td>3360</td>\n",
       "      <td>1000</td>\n",
       "      <td>1993</td>\n",
       "      <td>0</td>\n",
       "      <td>98053</td>\n",
       "      <td>47.6398</td>\n",
       "      <td>-121.985</td>\n",
       "      <td>3540</td>\n",
       "      <td>90940</td>\n",
       "    </tr>\n",
       "    <tr>\n",
       "      <th>19947</th>\n",
       "      <td>1776460110</td>\n",
       "      <td>20141223T000000</td>\n",
       "      <td>395000.0</td>\n",
       "      <td>4</td>\n",
       "      <td>2.75</td>\n",
       "      <td>2280</td>\n",
       "      <td>5013</td>\n",
       "      <td>2.0</td>\n",
       "      <td>0</td>\n",
       "      <td>0</td>\n",
       "      <td>...</td>\n",
       "      <td>8</td>\n",
       "      <td>2280</td>\n",
       "      <td>0</td>\n",
       "      <td>2009</td>\n",
       "      <td>0</td>\n",
       "      <td>98019</td>\n",
       "      <td>47.7333</td>\n",
       "      <td>-121.976</td>\n",
       "      <td>2130</td>\n",
       "      <td>5121</td>\n",
       "    </tr>\n",
       "  </tbody>\n",
       "</table>\n",
       "<p>10 rows × 21 columns</p>\n",
       "</div>"
      ],
      "text/plain": [
       "               id             date      price  bedrooms  bathrooms  \\\n",
       "5954   7852020250  20140602T000000   725995.0         4       2.50   \n",
       "8610   6392002020  20150324T000000   559000.0         3       1.75   \n",
       "7650    626049058  20150504T000000   275000.0         5       2.50   \n",
       "5683   2202500255  20150305T000000   335000.0         3       2.00   \n",
       "20772  1972200428  20140625T000000   563500.0         3       2.50   \n",
       "6959    723000114  20140505T000000  1395000.0         5       3.50   \n",
       "10784  4104900340  20150204T000000   710000.0         4       2.50   \n",
       "21528  3416600750  20150217T000000   585000.0         3       2.50   \n",
       "12319  2386000070  20141029T000000   795127.0         4       3.25   \n",
       "19947  1776460110  20141223T000000   395000.0         4       2.75   \n",
       "\n",
       "       sqft_living  sqft_lot  floors  waterfront  view  ...  grade  \\\n",
       "5954          3190      7869     2.0           0     2  ...      9   \n",
       "8610          1700      6500     1.0           0     0  ...      8   \n",
       "7650          2570     17234     1.0           0     0  ...      7   \n",
       "5683          1210      9926     1.0           0     0  ...      7   \n",
       "20772         1400      1312     3.5           0     0  ...      8   \n",
       "6959          4010      8510     2.0           0     1  ...      9   \n",
       "10784         3220     18618     2.0           0     1  ...     10   \n",
       "21528         1750      1381     3.0           0     0  ...      8   \n",
       "12319         4360     91158     1.0           0     0  ...     10   \n",
       "19947         2280      5013     2.0           0     0  ...      8   \n",
       "\n",
       "       sqft_above  sqft_basement  yr_built  yr_renovated  zipcode      lat  \\\n",
       "5954         3190              0      2001             0    98065  47.5317   \n",
       "8610         1700              0      1967             0    98115  47.6837   \n",
       "7650         1300           1270      1959             0    98133  47.7753   \n",
       "5683         1210              0      1954          2015    98006  47.5731   \n",
       "20772        1400              0      2007             0    98103  47.6534   \n",
       "6959         2850           1160      1971             0    98105  47.6578   \n",
       "10784        3220              0      1991             0    98056  47.5326   \n",
       "21528        1750              0      2008             0    98122  47.6021   \n",
       "12319        3360           1000      1993             0    98053  47.6398   \n",
       "19947        2280              0      2009             0    98019  47.7333   \n",
       "\n",
       "          long  sqft_living15  sqft_lot15  \n",
       "5954  -121.866           2630        6739  \n",
       "8610  -122.284           1880        6000  \n",
       "7650  -122.355           1760        7969  \n",
       "5683  -122.135           1690        9737  \n",
       "20772 -122.355           1350        1312  \n",
       "6959  -122.286           2610        6128  \n",
       "10784 -122.181           2650       11896  \n",
       "21528 -122.294           1940        4800  \n",
       "12319 -121.985           3540       90940  \n",
       "19947 -121.976           2130        5121  \n",
       "\n",
       "[10 rows x 21 columns]"
      ]
     },
     "execution_count": 35,
     "metadata": {},
     "output_type": "execute_result"
    }
   ],
   "source": [
    "df = pd.read_csv('https://raw.githubusercontent.com/marypazrf/bdd/main/kc_house_data.csv')\n",
    "df.sample(10)"
   ]
  },
  {
   "cell_type": "code",
   "execution_count": 36,
   "metadata": {
    "id": "n0fs14KoqI3M"
   },
   "outputs": [
    {
     "name": "stdout",
     "output_type": "stream",
     "text": [
      "<class 'pandas.core.frame.DataFrame'>\n",
      "RangeIndex: 21613 entries, 0 to 21612\n",
      "Data columns (total 21 columns):\n",
      " #   Column         Non-Null Count  Dtype  \n",
      "---  ------         --------------  -----  \n",
      " 0   id             21613 non-null  int64  \n",
      " 1   date           21613 non-null  object \n",
      " 2   price          21613 non-null  float64\n",
      " 3   bedrooms       21613 non-null  int64  \n",
      " 4   bathrooms      21613 non-null  float64\n",
      " 5   sqft_living    21613 non-null  int64  \n",
      " 6   sqft_lot       21613 non-null  int64  \n",
      " 7   floors         21613 non-null  float64\n",
      " 8   waterfront     21613 non-null  int64  \n",
      " 9   view           21613 non-null  int64  \n",
      " 10  condition      21613 non-null  int64  \n",
      " 11  grade          21613 non-null  int64  \n",
      " 12  sqft_above     21613 non-null  int64  \n",
      " 13  sqft_basement  21613 non-null  int64  \n",
      " 14  yr_built       21613 non-null  int64  \n",
      " 15  yr_renovated   21613 non-null  int64  \n",
      " 16  zipcode        21613 non-null  int64  \n",
      " 17  lat            21613 non-null  float64\n",
      " 18  long           21613 non-null  float64\n",
      " 19  sqft_living15  21613 non-null  int64  \n",
      " 20  sqft_lot15     21613 non-null  int64  \n",
      "dtypes: float64(5), int64(15), object(1)\n",
      "memory usage: 3.5+ MB\n"
     ]
    }
   ],
   "source": [
    "df.info()"
   ]
  },
  {
   "cell_type": "code",
   "execution_count": 37,
   "metadata": {
    "id": "1PNzDJZeqKhe"
   },
   "outputs": [
    {
     "data": {
      "text/html": [
       "<div>\n",
       "<style scoped>\n",
       "    .dataframe tbody tr th:only-of-type {\n",
       "        vertical-align: middle;\n",
       "    }\n",
       "\n",
       "    .dataframe tbody tr th {\n",
       "        vertical-align: top;\n",
       "    }\n",
       "\n",
       "    .dataframe thead th {\n",
       "        text-align: right;\n",
       "    }\n",
       "</style>\n",
       "<table border=\"1\" class=\"dataframe\">\n",
       "  <thead>\n",
       "    <tr style=\"text-align: right;\">\n",
       "      <th></th>\n",
       "      <th>id</th>\n",
       "      <th>price</th>\n",
       "      <th>bedrooms</th>\n",
       "      <th>bathrooms</th>\n",
       "      <th>sqft_living</th>\n",
       "      <th>sqft_lot</th>\n",
       "      <th>floors</th>\n",
       "      <th>waterfront</th>\n",
       "      <th>view</th>\n",
       "      <th>condition</th>\n",
       "      <th>grade</th>\n",
       "      <th>sqft_above</th>\n",
       "      <th>sqft_basement</th>\n",
       "      <th>yr_built</th>\n",
       "      <th>yr_renovated</th>\n",
       "      <th>zipcode</th>\n",
       "      <th>lat</th>\n",
       "      <th>long</th>\n",
       "      <th>sqft_living15</th>\n",
       "      <th>sqft_lot15</th>\n",
       "    </tr>\n",
       "  </thead>\n",
       "  <tbody>\n",
       "    <tr>\n",
       "      <th>count</th>\n",
       "      <td>2.161300e+04</td>\n",
       "      <td>2.161300e+04</td>\n",
       "      <td>21613.000000</td>\n",
       "      <td>21613.000000</td>\n",
       "      <td>21613.000000</td>\n",
       "      <td>2.161300e+04</td>\n",
       "      <td>21613.000000</td>\n",
       "      <td>21613.000000</td>\n",
       "      <td>21613.000000</td>\n",
       "      <td>21613.000000</td>\n",
       "      <td>21613.000000</td>\n",
       "      <td>21613.000000</td>\n",
       "      <td>21613.000000</td>\n",
       "      <td>21613.000000</td>\n",
       "      <td>21613.000000</td>\n",
       "      <td>21613.000000</td>\n",
       "      <td>21613.000000</td>\n",
       "      <td>21613.000000</td>\n",
       "      <td>21613.000000</td>\n",
       "      <td>21613.000000</td>\n",
       "    </tr>\n",
       "    <tr>\n",
       "      <th>mean</th>\n",
       "      <td>4.580302e+09</td>\n",
       "      <td>5.400881e+05</td>\n",
       "      <td>3.370842</td>\n",
       "      <td>2.114757</td>\n",
       "      <td>2079.899736</td>\n",
       "      <td>1.510697e+04</td>\n",
       "      <td>1.494309</td>\n",
       "      <td>0.007542</td>\n",
       "      <td>0.234303</td>\n",
       "      <td>3.409430</td>\n",
       "      <td>7.656873</td>\n",
       "      <td>1788.390691</td>\n",
       "      <td>291.509045</td>\n",
       "      <td>1971.005136</td>\n",
       "      <td>84.402258</td>\n",
       "      <td>98077.939805</td>\n",
       "      <td>47.560053</td>\n",
       "      <td>-122.213896</td>\n",
       "      <td>1986.552492</td>\n",
       "      <td>12768.455652</td>\n",
       "    </tr>\n",
       "    <tr>\n",
       "      <th>std</th>\n",
       "      <td>2.876566e+09</td>\n",
       "      <td>3.671272e+05</td>\n",
       "      <td>0.930062</td>\n",
       "      <td>0.770163</td>\n",
       "      <td>918.440897</td>\n",
       "      <td>4.142051e+04</td>\n",
       "      <td>0.539989</td>\n",
       "      <td>0.086517</td>\n",
       "      <td>0.766318</td>\n",
       "      <td>0.650743</td>\n",
       "      <td>1.175459</td>\n",
       "      <td>828.090978</td>\n",
       "      <td>442.575043</td>\n",
       "      <td>29.373411</td>\n",
       "      <td>401.679240</td>\n",
       "      <td>53.505026</td>\n",
       "      <td>0.138564</td>\n",
       "      <td>0.140828</td>\n",
       "      <td>685.391304</td>\n",
       "      <td>27304.179631</td>\n",
       "    </tr>\n",
       "    <tr>\n",
       "      <th>min</th>\n",
       "      <td>1.000102e+06</td>\n",
       "      <td>7.500000e+04</td>\n",
       "      <td>0.000000</td>\n",
       "      <td>0.000000</td>\n",
       "      <td>290.000000</td>\n",
       "      <td>5.200000e+02</td>\n",
       "      <td>1.000000</td>\n",
       "      <td>0.000000</td>\n",
       "      <td>0.000000</td>\n",
       "      <td>1.000000</td>\n",
       "      <td>1.000000</td>\n",
       "      <td>290.000000</td>\n",
       "      <td>0.000000</td>\n",
       "      <td>1900.000000</td>\n",
       "      <td>0.000000</td>\n",
       "      <td>98001.000000</td>\n",
       "      <td>47.155900</td>\n",
       "      <td>-122.519000</td>\n",
       "      <td>399.000000</td>\n",
       "      <td>651.000000</td>\n",
       "    </tr>\n",
       "    <tr>\n",
       "      <th>25%</th>\n",
       "      <td>2.123049e+09</td>\n",
       "      <td>3.219500e+05</td>\n",
       "      <td>3.000000</td>\n",
       "      <td>1.750000</td>\n",
       "      <td>1427.000000</td>\n",
       "      <td>5.040000e+03</td>\n",
       "      <td>1.000000</td>\n",
       "      <td>0.000000</td>\n",
       "      <td>0.000000</td>\n",
       "      <td>3.000000</td>\n",
       "      <td>7.000000</td>\n",
       "      <td>1190.000000</td>\n",
       "      <td>0.000000</td>\n",
       "      <td>1951.000000</td>\n",
       "      <td>0.000000</td>\n",
       "      <td>98033.000000</td>\n",
       "      <td>47.471000</td>\n",
       "      <td>-122.328000</td>\n",
       "      <td>1490.000000</td>\n",
       "      <td>5100.000000</td>\n",
       "    </tr>\n",
       "    <tr>\n",
       "      <th>50%</th>\n",
       "      <td>3.904930e+09</td>\n",
       "      <td>4.500000e+05</td>\n",
       "      <td>3.000000</td>\n",
       "      <td>2.250000</td>\n",
       "      <td>1910.000000</td>\n",
       "      <td>7.618000e+03</td>\n",
       "      <td>1.500000</td>\n",
       "      <td>0.000000</td>\n",
       "      <td>0.000000</td>\n",
       "      <td>3.000000</td>\n",
       "      <td>7.000000</td>\n",
       "      <td>1560.000000</td>\n",
       "      <td>0.000000</td>\n",
       "      <td>1975.000000</td>\n",
       "      <td>0.000000</td>\n",
       "      <td>98065.000000</td>\n",
       "      <td>47.571800</td>\n",
       "      <td>-122.230000</td>\n",
       "      <td>1840.000000</td>\n",
       "      <td>7620.000000</td>\n",
       "    </tr>\n",
       "    <tr>\n",
       "      <th>75%</th>\n",
       "      <td>7.308900e+09</td>\n",
       "      <td>6.450000e+05</td>\n",
       "      <td>4.000000</td>\n",
       "      <td>2.500000</td>\n",
       "      <td>2550.000000</td>\n",
       "      <td>1.068800e+04</td>\n",
       "      <td>2.000000</td>\n",
       "      <td>0.000000</td>\n",
       "      <td>0.000000</td>\n",
       "      <td>4.000000</td>\n",
       "      <td>8.000000</td>\n",
       "      <td>2210.000000</td>\n",
       "      <td>560.000000</td>\n",
       "      <td>1997.000000</td>\n",
       "      <td>0.000000</td>\n",
       "      <td>98118.000000</td>\n",
       "      <td>47.678000</td>\n",
       "      <td>-122.125000</td>\n",
       "      <td>2360.000000</td>\n",
       "      <td>10083.000000</td>\n",
       "    </tr>\n",
       "    <tr>\n",
       "      <th>max</th>\n",
       "      <td>9.900000e+09</td>\n",
       "      <td>7.700000e+06</td>\n",
       "      <td>33.000000</td>\n",
       "      <td>8.000000</td>\n",
       "      <td>13540.000000</td>\n",
       "      <td>1.651359e+06</td>\n",
       "      <td>3.500000</td>\n",
       "      <td>1.000000</td>\n",
       "      <td>4.000000</td>\n",
       "      <td>5.000000</td>\n",
       "      <td>13.000000</td>\n",
       "      <td>9410.000000</td>\n",
       "      <td>4820.000000</td>\n",
       "      <td>2015.000000</td>\n",
       "      <td>2015.000000</td>\n",
       "      <td>98199.000000</td>\n",
       "      <td>47.777600</td>\n",
       "      <td>-121.315000</td>\n",
       "      <td>6210.000000</td>\n",
       "      <td>871200.000000</td>\n",
       "    </tr>\n",
       "  </tbody>\n",
       "</table>\n",
       "</div>"
      ],
      "text/plain": [
       "                 id         price      bedrooms     bathrooms   sqft_living  \\\n",
       "count  2.161300e+04  2.161300e+04  21613.000000  21613.000000  21613.000000   \n",
       "mean   4.580302e+09  5.400881e+05      3.370842      2.114757   2079.899736   \n",
       "std    2.876566e+09  3.671272e+05      0.930062      0.770163    918.440897   \n",
       "min    1.000102e+06  7.500000e+04      0.000000      0.000000    290.000000   \n",
       "25%    2.123049e+09  3.219500e+05      3.000000      1.750000   1427.000000   \n",
       "50%    3.904930e+09  4.500000e+05      3.000000      2.250000   1910.000000   \n",
       "75%    7.308900e+09  6.450000e+05      4.000000      2.500000   2550.000000   \n",
       "max    9.900000e+09  7.700000e+06     33.000000      8.000000  13540.000000   \n",
       "\n",
       "           sqft_lot        floors    waterfront          view     condition  \\\n",
       "count  2.161300e+04  21613.000000  21613.000000  21613.000000  21613.000000   \n",
       "mean   1.510697e+04      1.494309      0.007542      0.234303      3.409430   \n",
       "std    4.142051e+04      0.539989      0.086517      0.766318      0.650743   \n",
       "min    5.200000e+02      1.000000      0.000000      0.000000      1.000000   \n",
       "25%    5.040000e+03      1.000000      0.000000      0.000000      3.000000   \n",
       "50%    7.618000e+03      1.500000      0.000000      0.000000      3.000000   \n",
       "75%    1.068800e+04      2.000000      0.000000      0.000000      4.000000   \n",
       "max    1.651359e+06      3.500000      1.000000      4.000000      5.000000   \n",
       "\n",
       "              grade    sqft_above  sqft_basement      yr_built  yr_renovated  \\\n",
       "count  21613.000000  21613.000000   21613.000000  21613.000000  21613.000000   \n",
       "mean       7.656873   1788.390691     291.509045   1971.005136     84.402258   \n",
       "std        1.175459    828.090978     442.575043     29.373411    401.679240   \n",
       "min        1.000000    290.000000       0.000000   1900.000000      0.000000   \n",
       "25%        7.000000   1190.000000       0.000000   1951.000000      0.000000   \n",
       "50%        7.000000   1560.000000       0.000000   1975.000000      0.000000   \n",
       "75%        8.000000   2210.000000     560.000000   1997.000000      0.000000   \n",
       "max       13.000000   9410.000000    4820.000000   2015.000000   2015.000000   \n",
       "\n",
       "            zipcode           lat          long  sqft_living15     sqft_lot15  \n",
       "count  21613.000000  21613.000000  21613.000000   21613.000000   21613.000000  \n",
       "mean   98077.939805     47.560053   -122.213896    1986.552492   12768.455652  \n",
       "std       53.505026      0.138564      0.140828     685.391304   27304.179631  \n",
       "min    98001.000000     47.155900   -122.519000     399.000000     651.000000  \n",
       "25%    98033.000000     47.471000   -122.328000    1490.000000    5100.000000  \n",
       "50%    98065.000000     47.571800   -122.230000    1840.000000    7620.000000  \n",
       "75%    98118.000000     47.678000   -122.125000    2360.000000   10083.000000  \n",
       "max    98199.000000     47.777600   -121.315000    6210.000000  871200.000000  "
      ]
     },
     "execution_count": 37,
     "metadata": {},
     "output_type": "execute_result"
    }
   ],
   "source": [
    "df.describe()"
   ]
  },
  {
   "cell_type": "code",
   "execution_count": 38,
   "metadata": {
    "id": "0KUD8T08qMmq"
   },
   "outputs": [],
   "source": [
    "df.drop('id', axis = 1, inplace = True)\n",
    "df.drop('date', axis = 1, inplace = True)\n",
    "df.drop('zipcode', axis = 1, inplace = True)\n",
    "df.drop('lat', axis = 1, inplace = True)\n",
    "df.drop('long', axis = 1, inplace = True)\n"
   ]
  },
  {
   "cell_type": "code",
   "execution_count": 39,
   "metadata": {
    "id": "r-jk_nHmqKpp"
   },
   "outputs": [
    {
     "data": {
      "image/png": "[encoded data removed]",
      "text/plain": [
       "<Figure size 864x576 with 2 Axes>"
      ]
     },
     "metadata": {
      "needs_background": "light"
     },
     "output_type": "display_data"
    }
   ],
   "source": [
    "plt.figure(figsize=(12,8)) \n",
    "sns.heatmap(df.corr(), annot=True, cmap='Dark2_r', linewidths = 2)\n",
    "plt.show()"
   ]
  },
  {
   "cell_type": "code",
   "execution_count": 40,
   "metadata": {
    "id": "p4zqCnFwq7Oc"
   },
   "outputs": [],
   "source": [
    "columns = df.columns.drop('price')\n",
    "\n",
    "features = columns\n",
    "label = ['price']\n",
    "\n",
    "X = df[features]\n",
    "y = df[label]"
   ]
  },
  {
   "cell_type": "markdown",
   "metadata": {},
   "source": [
    "**Divide los datos. Utiliza la función train_test_split**"
   ]
  },
  {
   "cell_type": "code",
   "execution_count": 41,
   "metadata": {
    "id": "p91PEVPLq93-"
   },
   "outputs": [
    {
     "name": "stdout",
     "output_type": "stream",
     "text": [
      "Numero total de registros en la bdd: 21613\n",
      "**************************************************\n",
      "Numero total de registros en el training set: 17290\n",
      "Tamaño de X_train: (17290, 15)\n",
      "**************************************************\n",
      "Mumero total de registros en el test dataset: 4323\n",
      "Tamaño del X_test: (4323, 15)\n"
     ]
    }
   ],
   "source": [
    "# En este punto se hace la división de los datos, con un factor de 0.80 para entrenamiento\n",
    "# como lo vimos en clase\n",
    "\n",
    "X_train, X_test, y_train, y_test = train_test_split(X, y, test_size = 0.20, random_state = 42)\n",
    "\n",
    "print(f'Numero total de registros en la bdd: {len(X)}')\n",
    "print(\"*****\"*10)\n",
    "print(f'Numero total de registros en el training set: {len(X_train)}')\n",
    "print(f'Tamaño de X_train: {X_train.shape}')\n",
    "print(\"*****\"*10)\n",
    "print(f'Mumero total de registros en el test dataset: {len(X_test)}')\n",
    "print(f'Tamaño del X_test: {X_test.shape}')"
   ]
  },
  {
   "cell_type": "markdown",
   "metadata": {},
   "source": [
    "**Regresión Múltiple Lineal.**\n",
    "\n",
    "Realiza la regresión lineal: modelo generado (ecuación), su visualización, sus errores y r cuadrada."
   ]
  },
  {
   "cell_type": "code",
   "execution_count": 42,
   "metadata": {
    "id": "0faHrN8-rv9V"
   },
   "outputs": [
    {
     "name": "stdout",
     "output_type": "stream",
     "text": [
      "\n",
      "Error medio Absoluto (MAE): 143187.80429162097\n",
      "Root Mean Squared Error: 228673.8237293404\n",
      "r2_score 0.6541020314679733\n"
     ]
    }
   ],
   "source": [
    "# En esta parte se llama al modelo y se entrena con los datos de Train\n",
    "\n",
    "LR = LinearRegression(fit_intercept=True)\n",
    "LR.fit(X_train, y_train)\n",
    "\n",
    "# En esta parte se hacen los cálculos de los errores con base en entrenar la partición de Test\n",
    "\n",
    "y_pred = LR.predict(X_test)\n",
    "MAE_LR=metrics.mean_absolute_error(y_test,y_pred)\n",
    "R2_LR=r2_score(y_test,y_pred)\n",
    "print('\\nError medio Absoluto (MAE):', metrics.mean_absolute_error(y_test, y_pred))\n",
    "print('Root Mean Squared Error:', np.sqrt(metrics.mean_squared_error(y_test, y_pred)))\n",
    "print('r2_score', r2_score(y_test, y_pred))\n",
    "\n"
   ]
  },
  {
   "cell_type": "markdown",
   "metadata": {},
   "source": [
    "**Regresión Múltiple Polinomial.**\n",
    "\n",
    "Realiza la  regresión polinomial completa, tu modelo generado (ecuación), su visualización, sus errores y r cuadrada."
   ]
  },
  {
   "cell_type": "code",
   "execution_count": 43,
   "metadata": {},
   "outputs": [
    {
     "name": "stdout",
     "output_type": "stream",
     "text": [
      "\n",
      "Error medio Absoluto (MAE): 130089.16388450991\n",
      "Root Mean Squared Error: 213321.68825645253\n",
      "r2_score 0.6989870860317033\n"
     ]
    }
   ],
   "source": [
    "# Se siguen los mismos pasos que en la regresión lineal, solo que ahora llamando a PolynomialFeatures para incluir\n",
    "# el grado con el que queremos trabajar, en este caso el grado 2 para evitar sobreentrenamiento\n",
    "\n",
    "poly_transform = PolynomialFeatures(degree=2, include_bias = False)\n",
    "polyX = poly_transform.fit_transform(X_train)\n",
    "PR = LinearRegression(fit_intercept=True)\n",
    "PR.fit(polyX, y_train)\n",
    "\n",
    "# En esta parte se hacen los cálculos de los errores con base en entrenar la partición de Test\n",
    "polyX = poly_transform.fit_transform(X_test)\n",
    "y_pred = PR.predict(polyX)\n",
    "R2_PR=r2_score(y_test,y_pred)\n",
    "MAE_PR=metrics.mean_absolute_error(y_test,y_pred)\n",
    "print('\\nError medio Absoluto (MAE):', metrics.mean_absolute_error(y_test, y_pred))\n",
    "print('Root Mean Squared Error:', np.sqrt(metrics.mean_squared_error(y_test, y_pred)))\n",
    "print('r2_score',r2_score(y_test, y_pred ))\n",
    "\n"
   ]
  },
  {
   "cell_type": "markdown",
   "metadata": {},
   "source": [
    "**Realiza la regresión con Ridge y Lasso. Incluye la ecuación de tu modelo, visualización , errores y r cuadrada.**"
   ]
  },
  {
   "cell_type": "code",
   "execution_count": 44,
   "metadata": {},
   "outputs": [
    {
     "name": "stdout",
     "output_type": "stream",
     "text": [
      "Análisis para la penalización Ridge\n",
      "\n",
      "\n",
      "Error medio Absoluto (MAE): 143279.3714203613\n",
      "Root Mean Squared Error: 228871.55562190723\n",
      "r2_score 0.6535035840454587\n"
     ]
    }
   ],
   "source": [
    "Ridge_PR=Ridge(alpha = 10, solver = 'auto', random_state = 42)\n",
    "Ridge_PR.fit(X_train,y_train)\n",
    "y_pred=Ridge_PR.predict(X_test)\n",
    "\n",
    "\n",
    "print(\"Análisis para la penalización Ridge\\n\")\n",
    "# En esta parte se hacen los cálculos de los errores con base en entrenar la partición de Test\n",
    "\n",
    "MAE_Ridge=metrics.mean_absolute_error(y_test,y_pred)\n",
    "R2_Ridge=r2_score(y_test,y_pred)\n",
    "print('\\nError medio Absoluto (MAE):', metrics.mean_absolute_error(y_test, y_pred))\n",
    "print('Root Mean Squared Error:', np.sqrt(metrics.mean_squared_error(y_test, y_pred)))\n",
    "print('r2_score', r2_score(y_test, y_pred))\n",
    "\n"
   ]
  },
  {
   "cell_type": "code",
   "execution_count": 45,
   "metadata": {},
   "outputs": [
    {
     "name": "stdout",
     "output_type": "stream",
     "text": [
      "\n",
      "Error medio Absoluto (MAE): 143190.81355874642\n",
      "Root Mean Squared Error: 228679.22278951696\n",
      "r2_score 0.6540856977576865\n"
     ]
    },
    {
     "name": "stderr",
     "output_type": "stream",
     "text": [
      "/Library/Frameworks/Python.framework/Versions/3.10/lib/python3.10/site-packages/sklearn/linear_model/_coordinate_descent.py:648: ConvergenceWarning: Objective did not converge. You might want to increase the number of iterations, check the scale of the features or consider increasing regularisation. Duality gap: 3.583e+14, tolerance: 2.259e+11\n",
      "  model = cd_fast.enet_coordinate_descent(\n"
     ]
    }
   ],
   "source": [
    "Lasso_PR=Lasso(alpha = 10,random_state = 42, max_iter=100000)\n",
    "Lasso_PR.fit(X_train,y_train)\n",
    "y_pred=Lasso_PR.predict(X_test)\n",
    "\n",
    "\n",
    "# En esta parte se hacen los cálculos de los errores con base en entrenar la partición de Test\n",
    "\n",
    "MAE_Lasso=metrics.mean_absolute_error(y_test,y_pred)\n",
    "R2_Lasso=r2_score(y_test,y_pred)\n",
    "print('\\nError medio Absoluto (MAE):', metrics.mean_absolute_error(y_test, y_pred))\n",
    "print('Root Mean Squared Error:', np.sqrt(metrics.mean_squared_error(y_test, y_pred)))\n",
    "print('r2_score', r2_score(y_test, y_pred))\n",
    "\n"
   ]
  },
  {
   "cell_type": "markdown",
   "metadata": {},
   "source": [
    "**Finalmente grafica :**\n",
    "    \n",
    "MAE (de los cuatro métodos)\n",
    "R2 (de los cuatro métodos)"
   ]
  },
  {
   "cell_type": "code",
   "execution_count": 46,
   "metadata": {},
   "outputs": [
    {
     "name": "stdout",
     "output_type": "stream",
     "text": [
      "MAE\n",
      "[143187.80429162097, 130089.16388450991, 143279.3714203613, 143190.81355874642]\n"
     ]
    },
    {
     "data": {
      "image/png": "[encoded data removed]",
      "text/plain": [
       "<Figure size 576x288 with 1 Axes>"
      ]
     },
     "metadata": {
      "needs_background": "light"
     },
     "output_type": "display_data"
    }
   ],
   "source": [
    "MAE = list()\n",
    "MAE.append(MAE_LR)\n",
    "MAE.append(MAE_PR)\n",
    "MAE.append(MAE_Ridge)\n",
    "MAE.append(MAE_Lasso)\n",
    "\n",
    "fig, ax = plt.subplots(figsize =(8, 4))\n",
    "print(\"MAE\")\n",
    "print(MAE)\n",
    "Metricas=list(Metricas)\n",
    "MAE=list(MAE)\n",
    "plt.bar(Metricas,MAE)\n",
    "\n",
    "\n",
    "plt.show()"
   ]
  },
  {
   "cell_type": "code",
   "execution_count": 47,
   "metadata": {},
   "outputs": [
    {
     "name": "stdout",
     "output_type": "stream",
     "text": [
      "r2\n",
      "[0.6541020314679733, 0.6989870860317033, 0.6535035840454587, 0.6540856977576865]\n"
     ]
    },
    {
     "data": {
      "image/png": "[encoded data removed]",
      "text/plain": [
       "<Figure size 576x288 with 1 Axes>"
      ]
     },
     "metadata": {
      "needs_background": "light"
     },
     "output_type": "display_data"
    }
   ],
   "source": [
    "R2 = list()\n",
    "R2.append(R2_LR)\n",
    "R2.append(R2_PR)\n",
    "R2.append(R2_Ridge)\n",
    "R2.append(R2_Lasso)\n",
    "fig, ax = plt.subplots(figsize=(8, 4))\n",
    "print(\"r2\")\n",
    "print(R2)\n",
    "R2 = list(R2)\n",
    "plt.bar(Metricas, R2)\n",
    "\n",
    "plt.show()"
   ]
  },
  {
   "cell_type": "markdown",
   "metadata": {},
   "source": [
    "**Explica tus resultados, que método conviene más a la empresa, ¿por qué?**\n",
    "\n",
    "Después de este análisis, podemos concluir que el método de regresión polinomial es el que más conviene a la empresa. Desde el punto de vista matemático, también en este ejercicio vemos una clara tendencia a que la regresión polinomial muestra mejores resultados. Este caso es más complicado de analizar visualmente debido a que tenemos 15 factores de entrada, por lo que cobra mucha más relevancia basar nuestro análisis en la comparación de los errores.\n",
    "\n",
    "\n",
    "**¿Qué porcentajes de entrenamiento y evaluación?** \n",
    "\n",
    "Al igual que en el ejercicio 1, después de aplicar algunos porcentajes entre 70/30, 80/20 y 90/10, no observamos mucha diferencia entre cada uno de ellos, por lo que decidimos dejar el porcentaje estándar de 80/20 que vimos en clase para este tipo de datos.\n",
    "\n",
    "**¿Qué error tienes?, ¿es bueno?, ¿cómo lo sabes?**\n",
    "\n",
    "Los errores MAE, por ejemplo, están en el rango de 13,000-14,000 unidades, mientras que la media del precio está en 50,000, por lo que considero que los errores para este ejercicio, en promedio son mayores. Lo curioso de este caso es que la R2 alcanza un valor alto para las predicciones, de 69%, solo a 1% de distancia de alcanzar el 70%, que el número a partir del cual se considera un buen fit para las R2. Esto tiene sentido ya que, con base en los datos descritos arriba, la desviación estándar del precio está en unidades de 35,000, por lo que hace sentido que exista mucha variación en el precio en grandes cantidades, y al mismo tiempo existan muchos valores típicos o comunes agrupados, lo cual pudiera provocar errores altos y R2 decentes al mismo tiempo. Al igual que en el ejercicio anterior, no usaría la regresión lineal como método definitivo sino que evaluaría métodos adicionales para el tipo de datos reales que estamos viendo.\n"
   ]
  },
  {
   "cell_type": "markdown",
   "metadata": {},
   "source": [
    "**Agrega las conclusiones**\n",
    "\n",
    "Las regresiones lineales son grandes métodos para poder encontrar tendencias en cómo fluye un conjunto de datos dentro de un dataset, sin importar si las variables de entrada son muchas o son pocas. Personalmente encuentro este tipo de métodos como una gran referencia para evitar que un modelo final se sobreentrene, ya que utilizar la regresión lineal simple o polinomial de grado 2 o 3 (claro, dependiendo de los datos), nos puede dar un modelo fácil y sencillo a partir del cual podemos esperar que nuestro método final mejore. \n",
    "\n",
    "Este tipo de métodos no tienen la capacidad de analizar si las variables de entrada son independientes o no, por lo que personalmente combinaría este tipo de métodos con el de PCA para poder trabajar polinomialmente con variables que si sean independientes, de esta forma podemos hacer mejores predicciones con R2 más altas y con errores más pequeños.\n",
    "\n",
    "Finalmente, vemos la utilidad de usar penalizaciones como la de Ridge y Lasso, aunque considero que en regresiones lineales su uso no es tan eficaz o aprovechado como si utilizarmos otro tipo de métodos para nuestras predicciones. En el caso de Ridge, los valores de alpha nos ayudan a hacer menos pronunciadas los saltos/curvas que el modelo encuentre, mientras que Lasso tiene la capacidad de anular o dejar alguna de estas pronunciaciones, con el objetivo de no sobreentrenar el modelo. \n"
   ]
  },
  {
   "cell_type": "code",
   "execution_count": null,
   "metadata": {},
   "outputs": [],
   "source": []
  }
 ],
 "metadata": {
  "accelerator": "GPU",
  "colab": {
   "provenance": []
  },
  "kernelspec": {
   "display_name": "Python 3 (ipykernel)",
   "language": "python",
   "name": "python3"
  },
  "language_info": {
   "codemirror_mode": {
    "name": "ipython",
    "version": 3
   },
   "file_extension": ".py",
   "mimetype": "text/x-python",
   "name": "python",
   "nbconvert_exporter": "python",
   "pygments_lexer": "ipython3",
   "version": "3.10.5"
  }
 },
 "nbformat": 4,
 "nbformat_minor": 1
}
