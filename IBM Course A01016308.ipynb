{
 "cells": [
  {
   "cell_type": "code",
   "execution_count": 6,
   "id": "090cd3ac",
   "metadata": {},
   "outputs": [
    {
     "name": "stdout",
     "output_type": "stream",
     "text": [
      "Hello\n",
      "Python 101\n"
     ]
    }
   ],
   "source": [
    "#AQUI INICIA EL MODULO 1 DEL CURSO DE IBM\n",
    "#imprimir Hello Python 101\n",
    "print('Hello\\nPython 101')"
   ]
  },
  {
   "cell_type": "code",
   "execution_count": 7,
   "id": "49b38fdd",
   "metadata": {},
   "outputs": [
    {
     "data": {
      "text/plain": [
       "1"
      ]
     },
     "execution_count": 7,
     "metadata": {},
     "output_type": "execute_result"
    }
   ],
   "source": [
    "int(1.2)"
   ]
  },
  {
   "cell_type": "code",
   "execution_count": 8,
   "id": "7accad10",
   "metadata": {},
   "outputs": [
    {
     "data": {
      "text/plain": [
       "True"
      ]
     },
     "execution_count": 8,
     "metadata": {},
     "output_type": "execute_result"
    }
   ],
   "source": [
    "bool(1)"
   ]
  },
  {
   "cell_type": "code",
   "execution_count": 9,
   "id": "f77aaff1",
   "metadata": {},
   "outputs": [
    {
     "data": {
      "text/plain": [
       "1"
      ]
     },
     "execution_count": 9,
     "metadata": {},
     "output_type": "execute_result"
    }
   ],
   "source": [
    "int(True)"
   ]
  },
  {
   "cell_type": "code",
   "execution_count": 10,
   "id": "f4a400f8",
   "metadata": {},
   "outputs": [
    {
     "data": {
      "text/plain": [
       "float"
      ]
     },
     "execution_count": 10,
     "metadata": {},
     "output_type": "execute_result"
    }
   ],
   "source": [
    "type(1.1)"
   ]
  },
  {
   "cell_type": "code",
   "execution_count": 11,
   "id": "a8abb20e",
   "metadata": {},
   "outputs": [
    {
     "data": {
      "text/plain": [
       "True"
      ]
     },
     "execution_count": 11,
     "metadata": {},
     "output_type": "execute_result"
    }
   ],
   "source": [
    "bool(int(1))"
   ]
  },
  {
   "cell_type": "code",
   "execution_count": 12,
   "id": "40cd5641",
   "metadata": {},
   "outputs": [
    {
     "data": {
      "text/plain": [
       "12.566370614359172"
      ]
     },
     "execution_count": 12,
     "metadata": {},
     "output_type": "execute_result"
    }
   ],
   "source": [
    "3.141592653589793238462638327950 * 4"
   ]
  },
  {
   "cell_type": "code",
   "execution_count": 15,
   "id": "2d80b7c4",
   "metadata": {},
   "outputs": [
    {
     "data": {
      "text/plain": [
       "4.0"
      ]
     },
     "execution_count": 15,
     "metadata": {},
     "output_type": "execute_result"
    }
   ],
   "source": [
    "#poner dos // significa que la división te va a regresar un entero\n",
    "6//1.27"
   ]
  },
  {
   "cell_type": "code",
   "execution_count": 16,
   "id": "9fa8744f",
   "metadata": {},
   "outputs": [
    {
     "data": {
      "text/plain": [
       "4.724409448818897"
      ]
     },
     "execution_count": 16,
     "metadata": {},
     "output_type": "execute_result"
    }
   ],
   "source": [
    "6/1.27"
   ]
  },
  {
   "cell_type": "code",
   "execution_count": 20,
   "id": "bfb607a8",
   "metadata": {},
   "outputs": [
    {
     "name": "stdout",
     "output_type": "stream",
     "text": [
      "8.141592653589793\n"
     ]
    }
   ],
   "source": [
    "pi=3.141592653589793238462638327950\n",
    "x= pi+5\n",
    "print(x)"
   ]
  },
  {
   "cell_type": "code",
   "execution_count": 21,
   "id": "27b9f215",
   "metadata": {},
   "outputs": [
    {
     "name": "stdout",
     "output_type": "stream",
     "text": [
      "3.141592653589793\n",
      "5.141592653589793\n"
     ]
    }
   ],
   "source": [
    "x=pi+2\n",
    "print(pi)\n",
    "print(x)"
   ]
  },
  {
   "cell_type": "code",
   "execution_count": 22,
   "id": "1ae152fb",
   "metadata": {},
   "outputs": [
    {
     "name": "stdout",
     "output_type": "stream",
     "text": [
      "3.10.5 (v3.10.5:f377153967, Jun  6 2022, 12:36:10) [Clang 13.0.0 (clang-1300.0.29.30)]\n"
     ]
    }
   ],
   "source": [
    "import sys\n",
    "print(sys.version)"
   ]
  },
  {
   "cell_type": "code",
   "execution_count": 23,
   "id": "9d942567",
   "metadata": {},
   "outputs": [
    {
     "data": {
      "text/plain": [
       "float"
      ]
     },
     "execution_count": 23,
     "metadata": {},
     "output_type": "execute_result"
    }
   ],
   "source": [
    "type(12.3)"
   ]
  },
  {
   "cell_type": "code",
   "execution_count": 27,
   "id": "1e51d801",
   "metadata": {},
   "outputs": [
    {
     "name": "stdout",
     "output_type": "stream",
     "text": [
      "<class 'str'>\n"
     ]
    }
   ],
   "source": [
    "x=\"Hola mundo\"\n",
    "print(type(x))"
   ]
  },
  {
   "cell_type": "code",
   "execution_count": 30,
   "id": "ff88709a",
   "metadata": {},
   "outputs": [
    {
     "name": "stdout",
     "output_type": "stream",
     "text": [
      "<class 'int'>\n",
      "2\n"
     ]
    }
   ],
   "source": [
    "y=2.34\n",
    "y=int(y)\n",
    "print(type(y))\n",
    "print(y)"
   ]
  },
  {
   "cell_type": "code",
   "execution_count": 44,
   "id": "e3c7e789",
   "metadata": {},
   "outputs": [
    {
     "name": "stdout",
     "output_type": "stream",
     "text": [
      "A\n",
      "z\n",
      "erna\n",
      "Ax rnz\n",
      "Aei \n",
      "16\n",
      "Alexis Hernandez\tis the best\n",
      "Alexis HernandezAlexis HernandezAlexis Hernandez\n"
     ]
    }
   ],
   "source": [
    "name=\"Alexis Hernandez\"\n",
    "print(name[0])\n",
    "print(name[-1])\n",
    "print(name[8:12])\n",
    "print(name[::3]) #imprimir cada tercer valor del string\n",
    "print(name[0:8:2]) #imprimir cada segundo valor del string entre los caractéres 0 y 8\n",
    "print(len(name)) #longitud del string\n",
    "print(name+\"\\tis the best\")#incorporar tabulación con \\t\n",
    "print(3*name)"
   ]
  },
  {
   "cell_type": "code",
   "execution_count": 54,
   "id": "14bb8988",
   "metadata": {},
   "outputs": [
    {
     "name": "stdout",
     "output_type": "stream",
     "text": [
      "ALEXIS HERNANDEZ\n",
      "Marisela Hernandez\n",
      "0\n"
     ]
    }
   ],
   "source": [
    "UPname=name.upper()\n",
    "print(UPname)\n",
    "mama= \"Marisela\"\n",
    "REPLACEmama=name.replace(\"Alexis\",mama)\n",
    "print(REPLACEmama)\n",
    "print(name.find(\"Alexis\")) #devuelve el numero del array apartir del cual se encuentra el texto en el string"
   ]
  },
  {
   "cell_type": "code",
   "execution_count": 58,
   "id": "cfc488d8",
   "metadata": {},
   "outputs": [
    {
     "name": "stdout",
     "output_type": "stream",
     "text": [
      "Li\n"
     ]
    }
   ],
   "source": [
    "name = 'Lizz'\n",
    "print(name[0:2])"
   ]
  },
  {
   "cell_type": "code",
   "execution_count": 59,
   "id": "e213a315",
   "metadata": {},
   "outputs": [
    {
     "name": "stdout",
     "output_type": "stream",
     "text": [
      "17\n"
     ]
    }
   ],
   "source": [
    "string=\"1\"+\"7\"\n",
    "print(string)\n",
    "#AQUI FINALIZA EL MODULO 1 DEL CURSO DE IBM"
   ]
  },
  {
   "cell_type": "code",
   "execution_count": 5,
   "id": "43249de6",
   "metadata": {},
   "outputs": [
    {
     "name": "stdout",
     "output_type": "stream",
     "text": [
      "hola\n",
      "('hola', 1, 2)\n",
      "4\n"
     ]
    }
   ],
   "source": [
    "#AQUI INICIA EL MODULO 2 DEL CURSO DE IBM\n",
    "#TUPLES   #LISTS ARE MUTABLE, TUPLES ARE NOT\n",
    "lista=(\"hola\",1,2,3.1416)\n",
    "print(lista[0])\n",
    "print(lista[0:3])\n",
    "print(len(lista))"
   ]
  },
  {
   "cell_type": "code",
   "execution_count": 14,
   "id": "93cebf15",
   "metadata": {},
   "outputs": [
    {
     "name": "stdout",
     "output_type": "stream",
     "text": [
      "('si', 'no')\n",
      "si\n",
      "s\n",
      "(1, 2, ('si', 'no'), (7, 13))\n"
     ]
    }
   ],
   "source": [
    "#LISTS ARE MUTABLE, TUPLES ARE NOT\n",
    "nesting=(1,2,(\"si\",\"no\"),(7,13)) #NESTING TUPLES\n",
    "print(nesting[2])\n",
    "print(nesting[2][0]) #TREES IN NESTING\n",
    "print(nesting[2][0][0])\n",
    "print(nesting)"
   ]
  },
  {
   "cell_type": "code",
   "execution_count": 23,
   "id": "228266b7",
   "metadata": {},
   "outputs": [
    {
     "name": "stdout",
     "output_type": "stream",
     "text": [
      "('si', 'no')\n",
      "si\n",
      "s\n",
      "[1, 'Club America', 'prueba', (7, 13)]\n",
      "[1, 'Club America', 'prueba', (7, 13), 'extension', 'adicional']\n",
      "[1, 'Club America', 'prueba', (7, 13), 'extension', 'adicional', [1, 2, 3]]\n",
      "['Club America', 'prueba', (7, 13), 'extension', 'adicional', [1, 2, 3]]\n",
      "['Club', 'America']\n",
      "['Club America', 'prueba', (7, 13), 'extension', 'México', [1, 2, 3]]\n",
      "['Club America', 'prueba', (7, 13), 'extension', 'México', [1, 2, 3]]\n",
      "['Europa', 'prueba', (7, 13), 'extension', 'México', [1, 2, 3]]\n",
      "['extension', 'México', [1, 2, 3]]\n"
     ]
    }
   ],
   "source": [
    "lists=[1,2,(\"si\",\"no\"),(7,13)] #NESTING LISTS\n",
    "print(lists[2])\n",
    "print(lists[2][0]) #TREES IN NESTING\n",
    "print(lists[2][0][0])\n",
    "lists[1]=\"Club America\"\n",
    "lists[2]=\"prueba\"\n",
    "print(lists)\n",
    "lists.extend([\"extension\",\"adicional\"])\n",
    "print(lists)\n",
    "lists.append([1,2,3])\n",
    "print(lists)\n",
    "del(lists[0])\n",
    "print(lists)\n",
    "print(lists[0].split())\n",
    "lista=lists\n",
    "lista[4]=\"México\"\n",
    "print(lists)\n",
    "listaclon=lists[:]\n",
    "listaclon[0]=\"Europa\"\n",
    "print(lists)\n",
    "print(listaclon)\n",
    "print(listaclon[3:])"
   ]
  },
  {
   "cell_type": "code",
   "execution_count": 47,
   "id": "56db3c3c",
   "metadata": {},
   "outputs": [
    {
     "name": "stdout",
     "output_type": "stream",
     "text": [
      "{1, 2, 3, 3.14, 4}\n",
      "{1, 2, 3, 3.14, 4, 5}\n",
      "{2, 3, 3.14, 4, 5}\n",
      "False\n",
      "True\n",
      "{3.14}\n",
      "{2, 3, 3.14, 4, 5, 'Marisela', 'Nayeli', 'Alexis'}\n",
      "False\n"
     ]
    }
   ],
   "source": [
    "#SETS - Unordered, unique positions\n",
    "seta={1,2,3,4,1,2,3,4,3.14}\n",
    "setanombres={\"Alexis\",\"Marisela\",\"Nayeli\",3.14}\n",
    "print(seta)\n",
    "lists=[\"hola\",\"hola\"]\n",
    "#lists=set(lists) no funciona\n",
    "\n",
    "seta.add(5)\n",
    "print(seta)\n",
    "seta.remove(1)\n",
    "print(seta)\n",
    "\n",
    "print(1 in seta) #checar si algo está en el set, aquí preguntamos si el 1 está\n",
    "print(2 in seta)\n",
    "print(seta&setanombres)\n",
    "print(seta.union(setanombres))\n",
    "print(setanombres.issubset(seta)) #checar si un SET es un subset de otro"
   ]
  },
  {
   "cell_type": "code",
   "execution_count": 57,
   "id": "42e14dcf",
   "metadata": {},
   "outputs": [
    {
     "name": "stdout",
     "output_type": "stream",
     "text": [
      "{'ClubAmerica': 13, 'Guadalajara': 12, 'Toluca': 10}\n",
      "{'ClubAmerica': 13, 'Guadalajara': 12, 'Toluca': 10, 'CruzAzul': 9}\n",
      "13\n",
      "dict_keys(['ClubAmerica', 'Guadalajara', 'Toluca', 'CruzAzul'])\n",
      "dict_values([13, 12, 10, 9])\n"
     ]
    }
   ],
   "source": [
    "#Diccionarios...son como listas pero sus índices no son necesariamente enteros, pueden ser strings \n",
    "diccionario={\"ClubAmerica\":13,\"Guadalajara\":12,\"Toluca\":10}\n",
    "print(diccionario)\n",
    "diccionario[\"CruzAzul\"]=9\n",
    "print(diccionario)\n",
    "print(diccionario[\"ClubAmerica\"])\n",
    "print(diccionario.keys())\n",
    "print(diccionario.values())\n",
    "#AQUI FINALIZA EL MODULO 2 DEL CURSO DE IBM\n",
    "\n"
   ]
  },
  {
   "cell_type": "code",
   "execution_count": 9,
   "id": "f5e3733e",
   "metadata": {},
   "outputs": [
    {
     "name": "stdout",
     "output_type": "stream",
     "text": [
      "True\n"
     ]
    }
   ],
   "source": [
    "#AQUI INICIA EL MODULO 3 DEL CURSO DE IBM\n",
    "#CONDITIONS AND BRANCHING\n",
    "a=7\n",
    "print(a==7)"
   ]
  },
  {
   "cell_type": "code",
   "execution_count": 10,
   "id": "0317ab2e",
   "metadata": {},
   "outputs": [
    {
     "name": "stdout",
     "output_type": "stream",
     "text": [
      "a vale 7\n"
     ]
    }
   ],
   "source": [
    "if(a==6):\n",
    "    print(\"a vale 6\")\n",
    "    \n",
    "elif(a==7):\n",
    "    print(\"a vale 7\")\n",
    "    \n",
    "else:\n",
    "    print(\"a no vale 6\")"
   ]
  },
  {
   "cell_type": "code",
   "execution_count": 21,
   "id": "2d7a2177",
   "metadata": {},
   "outputs": [
    {
     "name": "stdout",
     "output_type": "stream",
     "text": [
      "False\n",
      "a vale 6 O b vale 7\n",
      "a vale 6  Y b vale 7\n"
     ]
    }
   ],
   "source": [
    "print(not(True)) #True en mayúscula la primera\n",
    "a=6\n",
    "b=7\n",
    "c=8\n",
    "\n",
    "if(a!=6)or(b==7):\n",
    "    print(\"a vale 6 O b vale 7\")\n",
    "else:\n",
    "    print(\"a no vale 6 y b no vale 7\")\n",
    "\n",
    "if(a==6)and(b==7):\n",
    "    print(\"a vale\",a,\" Y b vale\",b)\n",
    "else:\n",
    "    print(\"a no vale 6 y b no vale 7\")"
   ]
  },
  {
   "cell_type": "code",
   "execution_count": 24,
   "id": "b06802ef",
   "metadata": {},
   "outputs": [
    {
     "name": "stdout",
     "output_type": "stream",
     "text": [
      "range(0, 9)\n"
     ]
    },
    {
     "data": {
      "text/plain": [
       "range(8, 12)"
      ]
     },
     "execution_count": 24,
     "metadata": {},
     "output_type": "execute_result"
    }
   ],
   "source": [
    "#LOOPS\n",
    "print(range(9))\n",
    "range(8,12)"
   ]
  },
  {
   "cell_type": "code",
   "execution_count": 29,
   "id": "6641adfe",
   "metadata": {},
   "outputs": [
    {
     "name": "stdout",
     "output_type": "stream",
     "text": [
      "La lista de colores es ['amarillo', 'rojo', 'azul', 'verde', 'morado']\n",
      "La nueva lista es de color: ['blanco', 'blanco', 'blanco', 'blanco', 'blanco']\n"
     ]
    }
   ],
   "source": [
    "\n",
    "colores=[\"amarillo\",\"rojo\",\"azul\",\"verde\",\"morado\"]\n",
    "print(\"La lista de colores es\",colores)\n",
    "for i in range(0,5):\n",
    "    colores[i]=\"blanco\"\n",
    "print(\"La nueva lista es de color:\",colores)"
   ]
  },
  {
   "cell_type": "code",
   "execution_count": 32,
   "id": "e11a1368",
   "metadata": {},
   "outputs": [
    {
     "name": "stdout",
     "output_type": "stream",
     "text": [
      "La lista de colores es ['amarillo', 'rojo', 'azul', 'verde', 'morado']\n",
      "La nueva lista es de color: ['blanco', 'blanco', 'blanco', 'blanco', 'blanco']\n"
     ]
    }
   ],
   "source": [
    "#otra forma de hacerlo\n",
    "colores=[\"amarillo\",\"rojo\",\"azul\",\"verde\",\"morado\"]\n",
    "print(\"La lista de colores es\",colores)\n",
    "for i,square in enumerate(colores):\n",
    "    colores[i]=\"blanco\"\n",
    "print(\"La nueva lista es de color:\",colores)\n",
    "    \n",
    "    "
   ]
  },
  {
   "cell_type": "code",
   "execution_count": 35,
   "id": "49a2667a",
   "metadata": {},
   "outputs": [
    {
     "name": "stdout",
     "output_type": "stream",
     "text": [
      "Terminamos la copia y la lista nueva trae: ['blanco', 'blanco', 'blanco']\n"
     ]
    }
   ],
   "source": [
    "listas=['blanco', 'blanco', 'blanco', 'rojo', 'blanco']\n",
    "a=0\n",
    "nuevalista=[]\n",
    "while(listas[a]==\"blanco\"):\n",
    "    nuevalista.append(listas[a])\n",
    "    a=a+1\n",
    "print(\"Terminamos la copia y la lista nueva trae:\",nuevalista)"
   ]
  },
  {
   "cell_type": "code",
   "execution_count": 55,
   "id": "9db7c7cf",
   "metadata": {},
   "outputs": [
    {
     "name": "stdout",
     "output_type": "stream",
     "text": [
      "[0, 1, 3, 4, 6, 7, 8, 9]\n",
      "[9, 8, 7, 6, 4, 3, 1, 0]\n",
      "[0, 1, 3, 4, 6, 7, 8, 9]\n",
      "None\n"
     ]
    }
   ],
   "source": [
    "numeros=[9,8,7,6,4,3,1,0]\n",
    "ordenados=sorted(numeros)\n",
    "print(ordenados)\n",
    "print(numeros)\n",
    "numeros.sort() #ordenarlos sin tener una nueva lista\n",
    "print(numeros)\n"
   ]
  },
  {
   "cell_type": "code",
   "execution_count": 42,
   "id": "230df416",
   "metadata": {},
   "outputs": [
    {
     "name": "stdout",
     "output_type": "stream",
     "text": [
      "7\n"
     ]
    }
   ],
   "source": [
    "#crear nuevas funciones\n",
    "\n",
    "def add1(a):\n",
    "    \"\"\"  \n",
    "    Comentarios\n",
    "    \"\"\"\n",
    "    b=a+1\n",
    "    return b\n",
    "\n",
    "print(add1(6))"
   ]
  },
  {
   "cell_type": "code",
   "execution_count": 48,
   "id": "69d5dfee",
   "metadata": {},
   "outputs": [
    {
     "name": "stdout",
     "output_type": "stream",
     "text": [
      "Indice 0 Rating es hola\n",
      "Indice 1 Rating es 2\n",
      "Indice 2 Rating es 3\n",
      "Indice 3 Rating es 4\n",
      "Indice 4 Rating es 5\n"
     ]
    }
   ],
   "source": [
    "def imprimir(x):\n",
    "\n",
    "    for i,s in enumerate(x):\n",
    "        print(\"Indice\",i,\"Rating es\",s)\n",
    "    \n",
    "ratings=[\"hola\",2,3,4,5]\n",
    "imprimir(ratings)\n",
    "\n"
   ]
  },
  {
   "cell_type": "code",
   "execution_count": 51,
   "id": "791f9121",
   "metadata": {},
   "outputs": [
    {
     "name": "stdout",
     "output_type": "stream",
     "text": [
      "11\n"
     ]
    }
   ],
   "source": [
    "a=1\n",
    "\n",
    "def add(b):\n",
    "\n",
    "    return a+b\n",
    "\n",
    "c=add(10)\n",
    "print(c)"
   ]
  },
  {
   "cell_type": "code",
   "execution_count": 52,
   "id": "7de90182",
   "metadata": {},
   "outputs": [
    {
     "name": "stdout",
     "output_type": "stream",
     "text": [
      "Country : Canada\n",
      "Province : Ontario\n",
      "City : Toronto\n"
     ]
    }
   ],
   "source": [
    "def printDictionary(**args): #para diccionarios con ** para números de variable desconocidos en la función\n",
    "    for key in args:\n",
    "        print(key + \" : \" + args[key])\n",
    "\n",
    "printDictionary(Country='Canada',Province='Ontario',City='Toronto')"
   ]
  },
  {
   "cell_type": "code",
   "execution_count": 59,
   "id": "b5ed3fa1",
   "metadata": {},
   "outputs": [
    {
     "name": "stdout",
     "output_type": "stream",
     "text": [
      "El radio del circulo es 10 y su color es: rojo\n",
      "Ahora, el radio del circulo es 10 y su color es: azul\n"
     ]
    }
   ],
   "source": [
    "#METHODS AND CLASSES\n",
    "\n",
    "#CLASSES\n",
    "class Circulo(object):\n",
    "    def __init__(self,radius,color):\n",
    "        self.radius=radius;\n",
    "        self.color=color;\n",
    "        \n",
    "class Rectangulo(object):\n",
    "    def __init__(self,height,width,color):\n",
    "        self.height=height;\n",
    "        self.width=width;\n",
    "        self.color=color;\n",
    "        \n",
    "CirculoRojo=Circulo(10,\"rojo\")\n",
    "print(\"El radio del circulo es\",CirculoRojo.radius,\"y su color es:\",CirculoRojo.color)\n",
    "CirculoRojo.color=\"azul\"\n",
    "print(\"Ahora, el radio del circulo es\",CirculoRojo.radius,\"y su color es:\",CirculoRojo.color)\n"
   ]
  },
  {
   "cell_type": "code",
   "execution_count": 63,
   "id": "9086e48d",
   "metadata": {},
   "outputs": [
    {
     "name": "stdout",
     "output_type": "stream",
     "text": [
      "El radio del circulo es 42 y su color es: rojo\n"
     ]
    },
    {
     "data": {
      "text/plain": [
       "['__class__',\n",
       " '__delattr__',\n",
       " '__dict__',\n",
       " '__dir__',\n",
       " '__doc__',\n",
       " '__eq__',\n",
       " '__format__',\n",
       " '__ge__',\n",
       " '__getattribute__',\n",
       " '__gt__',\n",
       " '__hash__',\n",
       " '__init__',\n",
       " '__init_subclass__',\n",
       " '__le__',\n",
       " '__lt__',\n",
       " '__module__',\n",
       " '__ne__',\n",
       " '__new__',\n",
       " '__reduce__',\n",
       " '__reduce_ex__',\n",
       " '__repr__',\n",
       " '__setattr__',\n",
       " '__sizeof__',\n",
       " '__str__',\n",
       " '__subclasshook__',\n",
       " '__weakref__',\n",
       " 'add_radius',\n",
       " 'color',\n",
       " 'radius']"
      ]
     },
     "execution_count": 63,
     "metadata": {},
     "output_type": "execute_result"
    }
   ],
   "source": [
    "#METHODS\n",
    "\n",
    "class Circulo(object):\n",
    "    def __init__(self,radius,color):\n",
    "        self.radius=radius;\n",
    "        self.color=color;\n",
    "        \n",
    "    def add_radius(self,r):\n",
    "        self.radius=self.radius+r\n",
    "        \n",
    "CirculoRojo=Circulo(10,\"rojo\")\n",
    "CirculoRojo.add_radius(32)\n",
    "print(\"El radio del circulo es\",CirculoRojo.radius,\"y su color es:\",CirculoRojo.color)\n",
    "dir(CirculoRojo)\n",
    "#CirculoRojo.drawCircle()\n",
    "\n"
   ]
  },
  {
   "cell_type": "code",
   "execution_count": null,
   "id": "a7994fe1",
   "metadata": {},
   "outputs": [],
   "source": []
  }
 ],
 "metadata": {
  "kernelspec": {
   "display_name": "Python 3 (ipykernel)",
   "language": "python",
   "name": "python3"
  },
  "language_info": {
   "codemirror_mode": {
    "name": "ipython",
    "version": 3
   },
   "file_extension": ".py",
   "mimetype": "text/x-python",
   "name": "python",
   "nbconvert_exporter": "python",
   "pygments_lexer": "ipython3",
   "version": "3.10.5"
  }
 },
 "nbformat": 4,
 "nbformat_minor": 5
}
